{
 "cells": [
  {
   "cell_type": "code",
   "execution_count": null,
   "id": "extraordinary-practitioner",
   "metadata": {},
   "outputs": [],
   "source": [
    "# TODO\n",
    "# https://github.com/matplotlib/mplfinance\n",
    "# https://blog.csdn.net/wuwei_201/article/details/105781844"
   ]
  }
 ],
 "metadata": {
  "kernelspec": {
   "display_name": "stockv1",
   "language": "python",
   "name": "stockv1"
  },
  "language_info": {
   "codemirror_mode": {
    "name": "ipython",
    "version": 3
   },
   "file_extension": ".py",
   "mimetype": "text/x-python",
   "name": "python",
   "nbconvert_exporter": "python",
   "pygments_lexer": "ipython3",
   "version": "3.6.13"
  }
 },
 "nbformat": 4,
 "nbformat_minor": 5
}
