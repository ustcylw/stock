{
 "cells": [
  {
   "cell_type": "markdown",
   "id": "dominican-beach",
   "metadata": {},
   "source": [
    "# BEGINNING\n",
    "## 添加小部件"
   ]
  },
  {
   "cell_type": "markdown",
   "id": "little-ferry",
   "metadata": {},
   "source": [
    "# TODO\n",
    " https://blog.csdn.net/weixin_46032351/article/details/103976347    \n",
    " https://blog.csdn.net/liuqixuan1994/article/details/86708381  \n",
    " http://codingdict.com/sources/py/ipywidgets.html  \n",
    " https://zhuanlan.zhihu.com/p/263411257?utm_source=wechat_session  "
   ]
  },
  {
   "cell_type": "code",
   "execution_count": 6,
   "id": "banned-combination",
   "metadata": {},
   "outputs": [],
   "source": [
    "import ipywidgets as widgets"
   ]
  },
  {
   "cell_type": "code",
   "execution_count": 7,
   "id": "sunrise-collar",
   "metadata": {},
   "outputs": [
    {
     "data": {
      "application/vnd.jupyter.widget-view+json": {
       "model_id": "e580425910dd49dc8f057582bfd8e75f",
       "version_major": 2,
       "version_minor": 0
      },
      "text/plain": [
       "IntSlider(value=3, description='Slider：', max=10)"
      ]
     },
     "metadata": {},
     "output_type": "display_data"
    }
   ],
   "source": [
    "widgets.IntSlider(\n",
    "    min=0,\n",
    "    max=10,\n",
    "    step=1,\n",
    "    description='Slider：',\n",
    "    value=3\n",
    ")"
   ]
  },
  {
   "cell_type": "markdown",
   "id": "agreed-context",
   "metadata": {},
   "source": [
    "## 显示\n",
    "在display()函数中传递小部件作为参数"
   ]
  },
  {
   "cell_type": "code",
   "execution_count": 8,
   "id": "fleet-planning",
   "metadata": {},
   "outputs": [],
   "source": [
    "from IPython.display import display"
   ]
  },
  {
   "cell_type": "code",
   "execution_count": 9,
   "id": "heard-custom",
   "metadata": {},
   "outputs": [
    {
     "data": {
      "application/vnd.jupyter.widget-view+json": {
       "model_id": "5302f68bba6c4c44b1106bec47a6cdfa",
       "version_major": 2,
       "version_minor": 0
      },
      "text/plain": [
       "IntSlider(value=0)"
      ]
     },
     "metadata": {},
     "output_type": "display_data"
    }
   ],
   "source": [
    "slider = widgets.IntSlider()\n",
    "display(slider)"
   ]
  },
  {
   "cell_type": "markdown",
   "id": "sunrise-zealand",
   "metadata": {},
   "source": [
    "## 获取/设置它的值\n",
    "要读取小部件的值，我们将查询它的value属性。同样，我们可以设置小部件的值："
   ]
  },
  {
   "cell_type": "code",
   "execution_count": 10,
   "id": "nominated-tournament",
   "metadata": {},
   "outputs": [
    {
     "data": {
      "application/vnd.jupyter.widget-view+json": {
       "model_id": "bed59520597c4f49805d18b7a5f9bd86",
       "version_major": 2,
       "version_minor": 0
      },
      "text/plain": [
       "IntSlider(value=0)"
      ]
     },
     "metadata": {},
     "output_type": "display_data"
    }
   ],
   "source": [
    "slider = widgets.IntSlider()\n",
    "display(slider)"
   ]
  },
  {
   "cell_type": "code",
   "execution_count": 11,
   "id": "interesting-clearing",
   "metadata": {},
   "outputs": [
    {
     "data": {
      "text/plain": [
       "0"
      ]
     },
     "execution_count": 11,
     "metadata": {},
     "output_type": "execute_result"
    }
   ],
   "source": [
    "slider.value"
   ]
  },
  {
   "cell_type": "code",
   "execution_count": 12,
   "id": "artistic-facility",
   "metadata": {},
   "outputs": [],
   "source": [
    "slider.value = 20"
   ]
  },
  {
   "cell_type": "markdown",
   "id": "assisted-green",
   "metadata": {},
   "source": [
    "## 连接两个小部件\n",
    "使用jslink()函数同步两个小部件的值。"
   ]
  },
  {
   "cell_type": "code",
   "execution_count": 13,
   "id": "aggressive-surveillance",
   "metadata": {},
   "outputs": [
    {
     "data": {
      "application/vnd.jupyter.widget-view+json": {
       "model_id": "7b2b9b340cf34200999e399ce9350757",
       "version_major": 2,
       "version_minor": 0
      },
      "text/plain": [
       "IntSlider(value=0)"
      ]
     },
     "metadata": {},
     "output_type": "display_data"
    },
    {
     "data": {
      "application/vnd.jupyter.widget-view+json": {
       "model_id": "62c15bc5865e496ab55ce59f1e54ec35",
       "version_major": 2,
       "version_minor": 0
      },
      "text/plain": [
       "IntText(value=0)"
      ]
     },
     "metadata": {},
     "output_type": "display_data"
    },
    {
     "data": {
      "text/plain": [
       "Link(source=(IntSlider(value=0), 'value'), target=(IntText(value=0), 'value'))"
      ]
     },
     "metadata": {},
     "output_type": "display_data"
    }
   ],
   "source": [
    "slider = widgets.IntSlider()\n",
    "text = widgets.IntText()\n",
    "display(slider, text)\n",
    "widgets.jslink((slider, 'value'), (text, 'value'))"
   ]
  },
  {
   "cell_type": "markdown",
   "id": "linear-stereo",
   "metadata": {},
   "source": [
    "## 小部件列表\n",
    "有关小部件的完整列表，你可以查看文档，或运行以下命令："
   ]
  },
  {
   "cell_type": "code",
   "execution_count": 14,
   "id": "optimum-amino",
   "metadata": {
    "tags": []
   },
   "outputs": [
    {
     "name": "stdout",
     "output_type": "stream",
     "text": [
      "['Accordion', 'AppLayout', 'Audio', 'BoundedFloatText', 'BoundedIntText', 'Box', 'Button', 'ButtonStyle', 'CallbackDispatcher', 'Checkbox', 'Color', 'ColorPicker', 'Combobox', 'Controller', 'CoreWidget', 'DOMWidget', 'DatePicker', 'Datetime', 'Dropdown', 'FileUpload', 'FloatLogSlider', 'FloatProgress', 'FloatRangeSlider', 'FloatSlider', 'FloatText', 'GridBox', 'GridspecLayout', 'HBox', 'HTML', 'HTMLMath', 'Image', 'IntProgress', 'IntRangeSlider', 'IntSlider', 'IntText', 'Label', 'Layout', 'NumberFormat', 'Output', 'Password', 'Play', 'RadioButtons', 'Select', 'SelectMultiple', 'SelectionRangeSlider', 'SelectionSlider', 'SliderStyle', 'Style', 'Tab', 'Text', 'Textarea', 'ToggleButton', 'ToggleButtons', 'ToggleButtonsStyle', 'TwoByTwoLayout', 'VBox', 'Valid', 'ValueWidget', 'Video', 'Widget', '__builtins__', '__cached__', '__doc__', '__file__', '__jupyter_widgets_base_version__', '__jupyter_widgets_controls_version__', '__loader__', '__name__', '__package__', '__path__', '__protocol_version__', '__spec__', '__version__', '_handle_ipython', '_version', 'dlink', 'docutils', 'domwidget', 'fixed', 'get_ipython', 'handle_kernel', 'interact', 'interact_manual', 'interaction', 'interactive', 'interactive_output', 'jsdlink', 'jslink', 'link', 'load_ipython_extension', 'os', 'register', 'register_comm_target', 'trait_types', 'util', 'valuewidget', 'version_info', 'widget', 'widget_bool', 'widget_box', 'widget_button', 'widget_color', 'widget_controller', 'widget_core', 'widget_date', 'widget_description', 'widget_float', 'widget_int', 'widget_layout', 'widget_link', 'widget_media', 'widget_output', 'widget_selection', 'widget_selectioncontainer', 'widget_serialization', 'widget_string', 'widget_style', 'widget_templates', 'widget_upload', 'widgets']\n"
     ]
    }
   ],
   "source": [
    "print(dir(widgets))"
   ]
  },
  {
   "cell_type": "markdown",
   "id": "acquired-score",
   "metadata": {},
   "source": [
    "# 处理小部件事件\n",
    "小部件可以响应事件，这些事件在用户与它们交互时引发。一个简单的例子是点击一个按钮——我们期待一个动作发生。\n",
    "\n",
    "让我们看看这是怎么工作的…\n",
    "\n",
    "根据其特定的特性，每个小部件公开不同的事件。每次触发事件时都将执行事件处理程序。\n",
    "\n",
    "事件处理程序是响应事件的回调函数，它异步操作并处理接收到的输入。\n",
    "\n",
    "这里我们将创建一个名为btn的简单按钮。单击按钮时调用on_click方法。\n",
    "\n",
    "我们的事件处理程序btn_eventhandler将打印一条带有按钮标题的短消息——注意，处理程序的输入参数obj是按钮对象本身，它允许我们访问它的属性。\n",
    "\n",
    "要将事件与处理程序绑定，我们将后者分配给按钮的on_click方法。"
   ]
  },
  {
   "cell_type": "code",
   "execution_count": 15,
   "id": "mysterious-ranch",
   "metadata": {},
   "outputs": [
    {
     "data": {
      "application/vnd.jupyter.widget-view+json": {
       "model_id": "76c44d50f7624b7f8e15423d1e509fed",
       "version_major": 2,
       "version_minor": 0
      },
      "text/plain": [
       "Button(description='Medium', style=ButtonStyle(), tooltip='this is a button')"
      ]
     },
     "metadata": {},
     "output_type": "display_data"
    }
   ],
   "source": [
    "btn = widgets.Button(description='Medium', tooltip='this is a button')\n",
    "\n",
    "def btn_click(btn_obj):\n",
    "#     print(f'hello button.\\n')\n",
    "    print(f'Hello from the {btn_obj.description} button!')\n",
    "\n",
    "btn.on_click(btn_click)\n",
    "\n",
    "display(btn)"
   ]
  },
  {
   "cell_type": "code",
   "execution_count": 16,
   "id": "increasing-regression",
   "metadata": {
    "tags": []
   },
   "outputs": [],
   "source": [
    "%matplotlib inline\n",
    "from matplotlib.pyplot import *\n",
    "import ipywidgets\n",
    "from ipywidgets import widgets, interact"
   ]
  },
  {
   "cell_type": "code",
   "execution_count": 17,
   "id": "representative-sandwich",
   "metadata": {
    "tags": []
   },
   "outputs": [
    {
     "data": {
      "application/vnd.jupyter.widget-view+json": {
       "model_id": "0d779845a60d4269bd03c644443369dc",
       "version_major": 2,
       "version_minor": 0
      },
      "text/plain": [
       "Button(description='OK', style=ButtonStyle(), tooltip='this is a button', _dom_classes=('new button',))"
      ]
     },
     "metadata": {},
     "output_type": "display_data"
    }
   ],
   "source": [
    "btn = widgets.Button(description = \"OK\", tooltip = 'this is a button')\n",
    "btn.add_class('new button')\n",
    "def btn_click(sender):\n",
    "    print(f'hello button.\\n')\n",
    "#     print('Button %s clicked!' % sender.description)\n",
    "btn.on_click(btn_click)\n",
    "display(btn)"
   ]
  },
  {
   "cell_type": "code",
   "execution_count": 18,
   "id": "necessary-grain",
   "metadata": {
    "tags": []
   },
   "outputs": [
    {
     "data": {
      "application/vnd.jupyter.widget-view+json": {
       "model_id": "693456dc4c8d43b6970be748ce6ace27",
       "version_major": 2,
       "version_minor": 0
      },
      "text/plain": [
       "Button(description='OK', style=ButtonStyle(), tooltip='this is a button')"
      ]
     },
     "metadata": {},
     "output_type": "display_data"
    }
   ],
   "source": [
    "btn = ipywidgets.Button(description = \"OK\", tooltip = 'this is a button')\n",
    "def btn_click(sender):\n",
    "    print('Button %s clicked!' % sender.description)\n",
    "btn.on_click(btn_click)\n",
    "display(btn)"
   ]
  },
  {
   "cell_type": "code",
   "execution_count": 21,
   "id": "english-arkansas",
   "metadata": {
    "tags": []
   },
   "outputs": [
    {
     "data": {
      "application/vnd.jupyter.widget-view+json": {
       "model_id": "f6ec7451876e48f38885b37b2744db70",
       "version_major": 2,
       "version_minor": 0
      },
      "text/plain": [
       "Button(description='Hi', style=ButtonStyle())"
      ]
     },
     "metadata": {},
     "output_type": "display_data"
    },
    {
     "data": {
      "application/vnd.jupyter.widget-view+json": {
       "model_id": "68d38c9ffc224f17b2b2c9868d26ae38",
       "version_major": 2,
       "version_minor": 0
      },
      "text/plain": [
       "Output()"
      ]
     },
     "metadata": {},
     "output_type": "display_data"
    }
   ],
   "source": [
    "%matplotlib inline\n",
    "\n",
    "from matplotlib.pyplot import *\n",
    "button = widgets.Button(description=\"Hi\")\n",
    "out = widgets.Output()\n",
    "\n",
    "ax = gca()\n",
    "# ax.plot([1,2],[1,2])\n",
    "# show()\n",
    "\n",
    "def on_button_clicked(b):\n",
    "    print(f'[-] hello button.')\n",
    "    with out:\n",
    "#         out.clear_output()\n",
    "#         out.observe(b)\n",
    "        print(f'Hello from the {b.description} button!')\n",
    "        ax.plot([2,3],[4,5])\n",
    "#         plot([2,3],[4,5])\n",
    "        show()\n",
    "\n",
    "button.on_click(on_button_clicked)\n",
    "\n",
    "display(button)\n",
    "\n",
    "with out:\n",
    "    plot([1,2],[1,2])\n",
    "    show()\n",
    "\n",
    "out"
   ]
  },
  {
   "cell_type": "code",
   "execution_count": 22,
   "id": "binding-firewall",
   "metadata": {
    "jupyter": {
     "source_hidden": true
    },
    "tags": []
   },
   "outputs": [
    {
     "data": {
      "application/vnd.jupyter.widget-view+json": {
       "model_id": "1e137ef433d849a595dc28a03ca678f2",
       "version_major": 2,
       "version_minor": 0
      },
      "text/plain": [
       "Button(description='Button', style=ButtonStyle())"
      ]
     },
     "metadata": {},
     "output_type": "display_data"
    },
    {
     "data": {
      "application/vnd.jupyter.widget-view+json": {
       "model_id": "4ba0e67030404ff1a3ffcc3b1340b798",
       "version_major": 2,
       "version_minor": 0
      },
      "text/plain": [
       "Output()"
      ]
     },
     "metadata": {},
     "output_type": "display_data"
    }
   ],
   "source": [
    "%matplotlib inline\n",
    "\n",
    "from matplotlib.pyplot import *\n",
    "\n",
    "button = ipywidgets.Button(description=\"Button\")\n",
    "out = ipywidgets.Output()\n",
    "\n",
    "def on_button_clicked(b):\n",
    "    print(f'[-] hello button.')\n",
    "    with out:\n",
    "        print(f'[=] hello button.')\n",
    "#         clear_output(True)\n",
    "#         plot([1,2],[2,1])\n",
    "        ax.plot([2,3],[4,5])\n",
    "        show()\n",
    "\n",
    "button.on_click(on_button_clicked)\n",
    "\n",
    "display(button)\n",
    "\n",
    "with out:\n",
    "    plot([1,2],[1,2])\n",
    "    show()\n",
    "\n",
    "out"
   ]
  },
  {
   "cell_type": "code",
   "execution_count": 23,
   "id": "sapphire-hawaii",
   "metadata": {
    "jupyter": {
     "source_hidden": true
    },
    "tags": []
   },
   "outputs": [
    {
     "data": {
      "application/vnd.jupyter.widget-view+json": {
       "model_id": "bbe51ecdbdf9470eb9db7b86c919f59e",
       "version_major": 2,
       "version_minor": 0
      },
      "text/plain": [
       "Output()"
      ]
     },
     "metadata": {},
     "output_type": "display_data"
    },
    {
     "name": "stdout",
     "output_type": "stream",
     "text": [
      "prints to output area\n"
     ]
    }
   ],
   "source": [
    "import ipywidgets as widgets\n",
    "from IPython.display import display\n",
    "out = widgets.Output()\n",
    "display(out)\n",
    "\n",
    "print('prints to output area')\n",
    "\n",
    "with out:\n",
    "    print('prints to output widget')\n",
    "\n",
    "@out.capture()\n",
    "def func():\n",
    "    print('prints to output widget')"
   ]
  },
  {
   "cell_type": "markdown",
   "id": "nutritional-isaac",
   "metadata": {},
   "source": [
    "## button click"
   ]
  },
  {
   "cell_type": "code",
   "execution_count": 24,
   "id": "floppy-slide",
   "metadata": {
    "tags": []
   },
   "outputs": [
    {
     "data": {
      "application/vnd.jupyter.widget-view+json": {
       "model_id": "466aa229929746bc883c48ad3823d8fd",
       "version_major": 2,
       "version_minor": 0
      },
      "text/plain": [
       "Button(description='Button', style=ButtonStyle())"
      ]
     },
     "metadata": {},
     "output_type": "display_data"
    },
    {
     "data": {
      "application/vnd.jupyter.widget-view+json": {
       "model_id": "afea4d628aff4e0fb562ee51c89231d6",
       "version_major": 2,
       "version_minor": 0
      },
      "text/plain": [
       "Output()"
      ]
     },
     "metadata": {},
     "output_type": "display_data"
    },
    {
     "data": {
      "application/vnd.jupyter.widget-view+json": {
       "model_id": "01f5d7a590024f2dbd47e0efcc86d19e",
       "version_major": 2,
       "version_minor": 0
      },
      "text/plain": [
       "Output()"
      ]
     },
     "metadata": {},
     "output_type": "display_data"
    }
   ],
   "source": [
    "%matplotlib inline\n",
    "from matplotlib.pyplot import *\n",
    "\n",
    "button = ipywidgets.Button(description=\"Button\")\n",
    "display(button)\n",
    "out = ipywidgets.Output()\n",
    "display(out)\n",
    "out2 = ipywidgets.Output()\n",
    "display(out2)\n",
    "\n",
    "count = 1\n",
    "\n",
    "# @out.capture()\n",
    "def on_button_clicked(b):\n",
    "    global count\n",
    "    print(f'[-] hello button.')\n",
    "    with out:\n",
    "        print(f'[=] hello button.')\n",
    "        show()\n",
    "    with out2:\n",
    "        out2.clear_output()\n",
    "        plot([count+2, count+3], [count+4, count+5])\n",
    "        show()\n",
    "    count += 1\n",
    "        \n",
    "button.on_click(on_button_clicked)\n",
    "\n",
    "# with out2:\n",
    "#     plot([1,2],[1,2])\n",
    "#     show()"
   ]
  },
  {
   "cell_type": "code",
   "execution_count": null,
   "id": "focused-distance",
   "metadata": {},
   "outputs": [],
   "source": []
  },
  {
   "cell_type": "markdown",
   "id": "detailed-exchange",
   "metadata": {},
   "source": [
    "# 控制部件的输出\n",
    "在本节中，我们将探索如何使用小部件来控制dataframe。我选择的样本数据集是“前往伦敦的国际游客数量”(Number of International Visitors to London)，它显示了伦敦游客在不同年份、不同季度、不同目的、不同持续时间、不同模式和不同国家的夜晚、访问次数和消费情况。"
   ]
  },
  {
   "cell_type": "code",
   "execution_count": null,
   "id": "dutch-pilot",
   "metadata": {},
   "outputs": [],
   "source": []
  },
  {
   "cell_type": "code",
   "execution_count": null,
   "id": "binding-england",
   "metadata": {
    "tags": []
   },
   "outputs": [],
   "source": [
    "# 首先，我们将获取数据并将其加载到一个dataframe中：\n",
    "import pandas as pd\n",
    "import numpy as np\n",
    "df = pd.read_csv('/data2/store/code/001/database/dbdata/000002.SZ/2020/20200101--20201231--W--qfq.csv',index_col=0,parse_dates=True)\n",
    "df.shape\n",
    "# df.head(3)\n",
    "# df.tail(3)\n",
    "df['trade_date'] = pd.to_datetime(df['trade_date'])\n",
    "df.index.name = 'trade_date'\n",
    "df.set_index('trade_date')"
   ]
  },
  {
   "cell_type": "code",
   "execution_count": 19,
   "id": "cleared-crash",
   "metadata": {
    "tags": []
   },
   "outputs": [],
   "source": [
    "# 假设我们想按年过滤数据帧。我们首先定义一个下拉列表，并用唯一的年份值列表填充它。\n",
    "# 为了做到这一点，我们将创建一个通用函数，unique-sorted-values-plus-all，\n",
    "# 它将找到唯一的值，对它们进行排序，然后在开始时添加all项，这样用户就可以删除过滤器。\n",
    "ALL = 'ALL'\n",
    "def unique_sorted_values_plus_ALL(array):\n",
    "    unique = array.unique().tolist()\n",
    "    unique.sort()\n",
    "    unique.insert(0, ALL)\n",
    "    return unique"
   ]
  },
  {
   "cell_type": "code",
   "execution_count": 20,
   "id": "joined-istanbul",
   "metadata": {},
   "outputs": [],
   "source": [
    "# 现在我们将初始化下拉框：\n",
    "dropdown_year = widgets.Dropdown(options=unique_sorted_values_plus_ALL(df.trade_date))\n",
    "dropdown_year = widgets.Dropdown(options=unique_sorted_values_plus_ALL(df.trade_date))"
   ]
  },
  {
   "cell_type": "code",
   "execution_count": 21,
   "id": "behavioral-postcard",
   "metadata": {},
   "outputs": [
    {
     "data": {
      "application/vnd.jupyter.widget-view+json": {
       "model_id": "55c158b9a31c498aad1986b6ae3a1c74",
       "version_major": 2,
       "version_minor": 0
      },
      "text/plain": [
       "Output()"
      ]
     },
     "metadata": {},
     "output_type": "display_data"
    },
    {
     "data": {
      "application/vnd.jupyter.widget-view+json": {
       "model_id": "47362fdf6d7643e2aefdd05a0f718b48",
       "version_major": 2,
       "version_minor": 0
      },
      "text/plain": [
       "Dropdown(options=('ALL', 20200103, 20200110, 20200117, 20200123, 20200207, 20200214, 20200221, 20200228, 20200…"
      ]
     },
     "metadata": {},
     "output_type": "display_data"
    }
   ],
   "source": [
    "# 下拉菜单小部件公开了observer方法，该方法接受一个函数，当下拉菜单的值发生更改时将调用该函数。\n",
    "# 因此，我们接下来将创建观察者处理程序来根据所选的值过滤数据aframe——注意，处理程序的输入参数\n",
    "# change包含有关发生的更改的信息，这些更改允许我们访问新值(change.new)。\n",
    "# 如果新值是所有我们删除过滤器，否则我们应用它：\n",
    "panel = ipywidgets.Output()\n",
    "display(panel)\n",
    "\n",
    "def dropdown_year_eventhandler(change):\n",
    "    with panel:\n",
    "        print(f'[-] changed!!! {change.new}')\n",
    "        if (change.new == ALL):\n",
    "            print(f'[=] changed!!! ALL')\n",
    "            display(df)\n",
    "        else:\n",
    "            d = df.trade_date.unique()\n",
    "            print(f'[=] changed!!! {change.new}')\n",
    "#             display(df[df.trade_date.unique()>change.new])\n",
    "            display(df.head())\n",
    "        show()\n",
    "# 然后我们将处理程序绑定到下拉列表：\n",
    "dropdown_year.observe(dropdown_year_eventhandler,names='value')\n",
    "display(dropdown_year)"
   ]
  },
  {
   "cell_type": "code",
   "execution_count": null,
   "id": "compound-aspect",
   "metadata": {},
   "outputs": [],
   "source": []
  },
  {
   "cell_type": "code",
   "execution_count": null,
   "id": "unique-fleece",
   "metadata": {},
   "outputs": [],
   "source": []
  },
  {
   "cell_type": "markdown",
   "id": "early-nutrition",
   "metadata": {},
   "source": [
    "## 链接小部件输出"
   ]
  },
  {
   "cell_type": "code",
   "execution_count": 22,
   "id": "coral-village",
   "metadata": {},
   "outputs": [
    {
     "data": {
      "application/vnd.jupyter.widget-view+json": {
       "model_id": "e355355fdd8741669ee78a62c3a48e3c",
       "version_major": 2,
       "version_minor": 0
      },
      "text/plain": [
       "Output()"
      ]
     },
     "metadata": {},
     "output_type": "display_data"
    },
    {
     "data": {
      "application/vnd.jupyter.widget-view+json": {
       "model_id": "95f9610aec7e490da1673cf9a48a3019",
       "version_major": 2,
       "version_minor": 0
      },
      "text/plain": [
       "Dropdown(options=('ALL', 24.2626, 24.5809, 24.7641, 24.7834, 24.793000000000003, 24.8798, 25.0245, 25.3234, 25…"
      ]
     },
     "metadata": {},
     "output_type": "display_data"
    },
    {
     "data": {
      "application/vnd.jupyter.widget-view+json": {
       "model_id": "abd9e373e9a04df9a6d2af0525c7b48d",
       "version_major": 2,
       "version_minor": 0
      },
      "text/plain": [
       "Dropdown(options=('ALL', 23.9541, 24.3302, 24.5905, 24.793000000000003, 24.9088, 24.956999999999997, 25.0534, …"
      ]
     },
     "metadata": {},
     "output_type": "display_data"
    }
   ],
   "source": [
    "# 继续前面的例子，假设我们也希望按目的过滤。\n",
    "# 如果我们继续添加另一个下拉列表，我们将很快意识到数据帧只响应最近更改的下拉列表中的过滤器。\n",
    "# 我们需要做的是将两者联系在一起，这样它就可以在两个价值观（即年和目标）上发挥作用。\n",
    "# 让我们看看它应该如何工作：\n",
    "# 首先，我们需要两个下拉列表的公共输出：\n",
    "output = widgets.Output()\n",
    "display(output)\n",
    "dropdown_year = widgets.Dropdown(options=unique_sorted_values_plus_ALL(df.close))\n",
    "dropdown_purpose = widgets.Dropdown(options=unique_sorted_values_plus_ALL(df.open))\n",
    "display(dropdown_year)\n",
    "display(dropdown_purpose)\n",
    "# 然后我们创建一个新的函数common_filtering，它将由两个事件处理程序调用。此函数将在数据框上\n",
    "# 应用一个过滤器，用于年份和目的：\n",
    "# 我们正在清除输出，然后检查是否所有的值，在这种情况下，我们考虑删除相应的过滤器。当两个过滤器\n",
    "# 都存在时，在else语句中，我们在两个过滤器中应用&操作。最后，我们捕获输出：\n",
    "def common_filtering(year, purpose):\n",
    "    output.clear_output()\n",
    "\n",
    "    if (year == ALL) & (purpose == ALL):\n",
    "        common_filter = df\n",
    "    elif (year == ALL):\n",
    "#         common_filter = df[df.purpose == purpose]\n",
    "        common_filter = df.head(1)\n",
    "    elif (purpose == ALL):\n",
    "#         common_filter == df[df.year == year]\n",
    "        common_filter == df.head(2)\n",
    "    else:\n",
    "#         common_filter = df[(df.year == year) & (df.purpose == purpose)]\n",
    "        common_filter = df.head(3)\n",
    "    with output:\n",
    "        print(f'[-]  {year}  {purpose}')\n",
    "        display(common_filter)\n",
    "# 我们将事件处理程序修改为调用common_filtering函数并传递更改。新值以及其他下拉框的当前值：\n",
    "def dropdown_year_eventhandler(change):\n",
    "    common_filtering(change.new, dropdown_purpose.value)\n",
    "def dropdown_purpose_eventhandler(change):\n",
    "    common_filtering(dropdown_year.value, change.new)\n",
    "# 将处理程序绑定到下拉列表，就这样！\n",
    "dropdown_year.observe(\n",
    "    dropdown_year_eventhandler,\n",
    "    names='value'\n",
    ")\n",
    "dropdown_purpose.observe(\n",
    "    dropdown_purpose_eventhandler,\n",
    "    names='value'\n",
    ")"
   ]
  },
  {
   "cell_type": "code",
   "execution_count": null,
   "id": "manufactured-jungle",
   "metadata": {},
   "outputs": [],
   "source": []
  },
  {
   "cell_type": "code",
   "execution_count": null,
   "id": "professional-forward",
   "metadata": {},
   "outputs": [],
   "source": []
  },
  {
   "cell_type": "markdown",
   "id": "conceptual-tenant",
   "metadata": {},
   "source": [
    "# 创建仪表盘"
   ]
  },
  {
   "cell_type": "code",
   "execution_count": 42,
   "id": "vocational-tower",
   "metadata": {},
   "outputs": [
    {
     "data": {
      "application/vnd.jupyter.widget-view+json": {
       "model_id": "d217b28a44e54cdf82cf1bedb6bd5c98",
       "version_major": 2,
       "version_minor": 0
      },
      "text/plain": [
       "Output()"
      ]
     },
     "metadata": {},
     "output_type": "display_data"
    },
    {
     "data": {
      "application/vnd.jupyter.widget-view+json": {
       "model_id": "b5e4ca40999d419b971e2d5e382f24d1",
       "version_major": 2,
       "version_minor": 0
      },
      "text/plain": [
       "Dropdown(options=('ALL', 24.2626, 24.5809, 24.7641, 24.7834, 24.793000000000003, 24.8798, 25.0245, 25.3234, 25…"
      ]
     },
     "metadata": {},
     "output_type": "display_data"
    },
    {
     "data": {
      "application/vnd.jupyter.widget-view+json": {
       "model_id": "43806fcc7ac44c66bae3267e2a978fa5",
       "version_major": 2,
       "version_minor": 0
      },
      "text/plain": [
       "Dropdown(options=('ALL', 23.9541, 24.3302, 24.5905, 24.793000000000003, 24.9088, 24.956999999999997, 25.0534, …"
      ]
     },
     "metadata": {},
     "output_type": "display_data"
    },
    {
     "data": {
      "application/vnd.jupyter.widget-view+json": {
       "model_id": "559a484968b04be1afd65bc2f3097b2c",
       "version_major": 2,
       "version_minor": 0
      },
      "text/plain": [
       "BoundedFloatText(value=5.0, max=100000.0, step=1.0)"
      ]
     },
     "metadata": {},
     "output_type": "display_data"
    }
   ],
   "source": [
    "import mplfinance as mplf\n",
    "\n",
    "\n",
    "output = widgets.Output()\n",
    "display(output)\n",
    "dropdown_year = widgets.Dropdown(options=unique_sorted_values_plus_ALL(df.close))\n",
    "dropdown_purpose = widgets.Dropdown(options=unique_sorted_values_plus_ALL(df.open))\n",
    "# 到目前为止，我们已经通过过滤和显示伦敦数据集的数据为仪表盘奠定了基础。我们将根据用户选择的值对数值着色。\n",
    "# 一个有用的数字小部件是boundedfloatText；我们将给它一个最小值、最大值和初始值，以及增量步骤。\n",
    "bounded_num = widgets.BoundedFloatText(\n",
    "    min=0,\n",
    "    max=100000,\n",
    "    value=5,\n",
    "    step=1\n",
    ")\n",
    "display(dropdown_year)\n",
    "display(dropdown_purpose)\n",
    "display(bounded_num)\n",
    "# 为了给数据帧单元上色，我们将定义此功能：\n",
    "def colour_ge_value(value, comparison):\n",
    "    if value >= comparison:\n",
    "        return 'color： red'\n",
    "    else:\n",
    "        return 'color： black'\n",
    "# 现在，我们将把常用的_过滤功能修改为：\n",
    "# 添加新的num输入参数：\n",
    "def common_filtering(year, purpose, num):\n",
    "    output.clear_output()\n",
    "\n",
    "    if (year == ALL) & (purpose == ALL):\n",
    "        common_filter = df\n",
    "    elif (year == ALL):\n",
    "#         common_filter = df[df.purpose == purpose]\n",
    "        common_filter = df.head(1)\n",
    "    elif (purpose == ALL):\n",
    "#         common_filter == df[df.year == year]\n",
    "        common_filter == df.head(2)\n",
    "    else:\n",
    "#         common_filter = df[(df.year == year) & (df.purpose == purpose)]\n",
    "        common_filter = df.head(3)\n",
    "    with output:\n",
    "        print(f'[-]  {year}  {purpose}')\n",
    "        display(\n",
    "            common_filter.style.applymap(\n",
    "                lambda x:colour_ge_value(\n",
    "                    x, num\n",
    "                ),\n",
    "                subset=['close', 'open', 'high']\n",
    "            )\n",
    "        )\n",
    "        common_filter.index.name='trade_date'\n",
    "        common_filter.index = pd.DatetimeIndex(common_filter.index)\n",
    "        common_filter.sort_index()\n",
    "        new_columns = {'trade_date':'trade_date', 'open':'open', 'high':'high', 'low':'low', 'close':'close', 'vol':'volume'}\n",
    "        common_filter.rename(columns=new_columns, inplace=True)\n",
    "        mc = mplf.make_marketcolors(up='r',down='g')\n",
    "        s  = mplf.make_mpf_style(marketcolors=mc,mavcolors=['#4f8a8b','#fbd46d','#87556f'])\n",
    "        # mplf.plot(df2, type='candle', volume=True, show_nontrading=True, figratio=(20,10), mav=(5,10,15),style=s)\n",
    "        mplf.plot(common_filter, type='candle', volume=True, figratio=(20,10), mav=(5,10,15), style=s)\n",
    "        \n",
    "# 我们将事件处理程序修改为调用common_filtering函数并传递更改。新值以及其他下拉框的当前值：\n",
    "def dropdown_year_eventhandler(change):\n",
    "    common_filtering(change.new, dropdown_purpose.value, change.new)\n",
    "def dropdown_purpose_eventhandler(change):\n",
    "    common_filtering(dropdown_year.value, change.new, change.new)\n",
    "def bounded_num_eventhandler(change):\n",
    "    common_filtering(dropdown_year.value, change.new, change.new)\n",
    "# 将处理程序绑定到下拉列表，就这样！\n",
    "dropdown_year.observe(\n",
    "    dropdown_year_eventhandler,\n",
    "    names='value'\n",
    ")\n",
    "dropdown_purpose.observe(\n",
    "    dropdown_purpose_eventhandler,\n",
    "    names='value'\n",
    ")\n",
    "bounded_num.observe(bounded_num_eventhandler, names='value')"
   ]
  },
  {
   "cell_type": "code",
   "execution_count": null,
   "id": "light-keeping",
   "metadata": {},
   "outputs": [],
   "source": []
  },
  {
   "cell_type": "code",
   "execution_count": null,
   "id": "medical-chamber",
   "metadata": {},
   "outputs": [],
   "source": []
  },
  {
   "cell_type": "markdown",
   "id": "fifth-decimal",
   "metadata": {},
   "source": [
    "## 绘图"
   ]
  },
  {
   "cell_type": "code",
   "execution_count": 24,
   "id": "automatic-execution",
   "metadata": {},
   "outputs": [],
   "source": [
    "# 接下来，我们将添加一个新的图表来绘制访问次数的基本单变量密度（kde→内核密度估计）。我们将使用Seaborn，所以让我们导入库：\n",
    "import seaborn as sns\n",
    "import matplotlib.pyplot as plt"
   ]
  },
  {
   "cell_type": "code",
   "execution_count": null,
   "id": "digital-mortgage",
   "metadata": {},
   "outputs": [],
   "source": []
  },
  {
   "cell_type": "code",
   "execution_count": null,
   "id": "green-benjamin",
   "metadata": {},
   "outputs": [],
   "source": []
  }
 ],
 "metadata": {
  "kernelspec": {
   "display_name": "stockv1",
   "language": "python",
   "name": "stockv1"
  },
  "language_info": {
   "codemirror_mode": {
    "name": "ipython",
    "version": 3
   },
   "file_extension": ".py",
   "mimetype": "text/x-python",
   "name": "python",
   "nbconvert_exporter": "python",
   "pygments_lexer": "ipython3",
   "version": "3.8.8"
  }
 },
 "nbformat": 4,
 "nbformat_minor": 5
}
