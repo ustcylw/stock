{
 "cells": [
  {
   "cell_type": "code",
   "execution_count": null,
   "id": "boring-moral",
   "metadata": {},
   "outputs": [],
   "source": [
    "# TODO\n",
    "# https://blog.csdn.net/wei_lin/article/details/93492252\n",
    "# https://www.cnblogs.com/shengyang17/p/9535127.html"
   ]
  }
 ],
 "metadata": {
  "kernelspec": {
   "display_name": "stockv1",
   "language": "python",
   "name": "stockv1"
  },
  "language_info": {
   "codemirror_mode": {
    "name": "ipython",
    "version": 3
   },
   "file_extension": ".py",
   "mimetype": "text/x-python",
   "name": "python",
   "nbconvert_exporter": "python",
   "pygments_lexer": "ipython3",
   "version": "3.6.13"
  }
 },
 "nbformat": 4,
 "nbformat_minor": 5
}
