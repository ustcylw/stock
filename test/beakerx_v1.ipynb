{
 "cells": [
  {
   "cell_type": "code",
   "execution_count": 15,
   "id": "automatic-frequency",
   "metadata": {},
   "outputs": [],
   "source": [
    "from beakerx import *\n",
    "from random import randint"
   ]
  },
  {
   "cell_type": "code",
   "execution_count": 16,
   "id": "aggregate-monitor",
   "metadata": {},
   "outputs": [],
   "source": [
    "abc = 0 # test variable"
   ]
  },
  {
   "cell_type": "code",
   "execution_count": 17,
   "id": "complete-mission",
   "metadata": {},
   "outputs": [
    {
     "data": {
      "application/vnd.jupyter.widget-view+json": {
       "model_id": "f9bad4c3623049b9998aff79840dbad1",
       "version_major": 2,
       "version_minor": 0
      }
     },
     "metadata": {},
     "output_type": "display_data"
    }
   ],
   "source": [
    "p = Plot(showLegend = True, useToolTip= False)\n",
    "\n",
    "def on_click1(info):\n",
    "    info.graphics.display_name = \"new name\"\n",
    "    \n",
    "def on_click2(info):\n",
    "    info.graphics.y[0] = randint(0, 9)\n",
    "    \n",
    "p.add(Line(x = [1, 2, 3], y = [2, 3, 4], width = 10, displayName = \"line 1\").onClick(on_click1))\n",
    "p.add(Line(x = [1, 2, 3], y = [5, 6, 7], width = 10, displayName = \"line 2\").onClick(on_click2))"
   ]
  },
  {
   "cell_type": "code",
   "execution_count": 18,
   "id": "heated-region",
   "metadata": {},
   "outputs": [
    {
     "data": {
      "application/vnd.jupyter.widget-view+json": {
       "model_id": "54d607ed33544246b9cf3a5aff3cfd13",
       "version_major": 2,
       "version_minor": 0
      }
     },
     "metadata": {},
     "output_type": "display_data"
    }
   ],
   "source": [
    "p = Plot(showLegend = True, useToolTip = False)\n",
    "\n",
    "def on_click(info):\n",
    "    global abc\n",
    "    abc += 1\n",
    "    beakerx.runByTag(\"on_click_any_action\")\n",
    "    \n",
    "\n",
    "p.add(Line(x = [1, 2, 3], y = [2, 3, 4], width = 10, displayName = \"line 1\").onClick(on_click))"
   ]
  },
  {
   "cell_type": "code",
   "execution_count": 19,
   "id": "parallel-baseline",
   "metadata": {},
   "outputs": [
    {
     "name": "stdout",
     "output_type": "stream",
     "text": [
      "0\n"
     ]
    }
   ],
   "source": [
    "print(abc)"
   ]
  },
  {
   "cell_type": "code",
   "execution_count": 20,
   "id": "strategic-proof",
   "metadata": {},
   "outputs": [
    {
     "data": {
      "application/vnd.jupyter.widget-view+json": {
       "model_id": "bce0b9e894444a4693e2fffb98115e49",
       "version_major": 2,
       "version_minor": 0
      }
     },
     "metadata": {},
     "output_type": "display_data"
    }
   ],
   "source": [
    "plot = Plot(useToolTip = False)\n",
    "plot.add(Points(x = list(range(1, 6)), y = list(range(1, 6)), size = 12, color = Color.orange, outlineColor = Color.black, displayName = \"orange\").onClick(\"run_tag\"))\n",
    "plot.add(Points(x = list(range(1, 6)), y = list(range(3, 9)), size = 12, color = Color.green, outlineColor = Color.black, displayName = \"green\").onClick(\"run_tag\"))"
   ]
  },
  {
   "cell_type": "code",
   "execution_count": 21,
   "id": "rocky-pickup",
   "metadata": {},
   "outputs": [
    {
     "ename": "AttributeError",
     "evalue": "'NoneType' object has no attribute 'display_name'",
     "output_type": "error",
     "traceback": [
      "\u001b[0;31m---------------------------------------------------------------------------\u001b[0m",
      "\u001b[0;31mAttributeError\u001b[0m                            Traceback (most recent call last)",
      "\u001b[0;32m<ipython-input-21-dbe05f5270df>\u001b[0m in \u001b[0;36m<module>\u001b[0;34m\u001b[0m\n\u001b[1;32m      5\u001b[0m \u001b[0mtag\u001b[0m \u001b[0;34m=\u001b[0m \u001b[0mdetails\u001b[0m\u001b[0;34m.\u001b[0m\u001b[0mtag\u001b[0m\u001b[0;34m\u001b[0m\u001b[0;34m\u001b[0m\u001b[0m\n\u001b[1;32m      6\u001b[0m \u001b[0maction\u001b[0m \u001b[0;34m=\u001b[0m \u001b[0mdetails\u001b[0m\u001b[0;34m.\u001b[0m\u001b[0mactionType\u001b[0m\u001b[0;34m\u001b[0m\u001b[0;34m\u001b[0m\u001b[0m\n\u001b[0;32m----> 7\u001b[0;31m \u001b[0mprint\u001b[0m\u001b[0;34m(\u001b[0m\u001b[0;34m\"You clicked on {} {} (element with coordinates [{},{}])\"\u001b[0m\u001b[0;34m.\u001b[0m\u001b[0mformat\u001b[0m\u001b[0;34m(\u001b[0m\u001b[0mitem\u001b[0m\u001b[0;34m.\u001b[0m\u001b[0mdisplay_name\u001b[0m\u001b[0;34m,\u001b[0m \u001b[0mtype\u001b[0m\u001b[0;34m(\u001b[0m\u001b[0mitem\u001b[0m\u001b[0;34m)\u001b[0m\u001b[0;34m.\u001b[0m\u001b[0m__name__\u001b[0m\u001b[0;34m,\u001b[0m \u001b[0mitem\u001b[0m\u001b[0;34m.\u001b[0m\u001b[0mx\u001b[0m\u001b[0;34m[\u001b[0m\u001b[0mindex\u001b[0m\u001b[0;34m]\u001b[0m\u001b[0;34m,\u001b[0m \u001b[0mitem\u001b[0m\u001b[0;34m.\u001b[0m\u001b[0my\u001b[0m\u001b[0;34m[\u001b[0m\u001b[0mindex\u001b[0m\u001b[0;34m]\u001b[0m\u001b[0;34m)\u001b[0m\u001b[0;34m)\u001b[0m\u001b[0;34m\u001b[0m\u001b[0;34m\u001b[0m\u001b[0m\n\u001b[0m\u001b[1;32m      8\u001b[0m \u001b[0mprint\u001b[0m\u001b[0;34m(\u001b[0m\u001b[0;34m\"Key pressed = {} Tag = {} Action = {}\"\u001b[0m\u001b[0;34m.\u001b[0m\u001b[0mformat\u001b[0m\u001b[0;34m(\u001b[0m\u001b[0mkey\u001b[0m\u001b[0;34m,\u001b[0m \u001b[0mtag\u001b[0m\u001b[0;34m,\u001b[0m \u001b[0maction\u001b[0m\u001b[0;34m)\u001b[0m\u001b[0;34m)\u001b[0m\u001b[0;34m\u001b[0m\u001b[0;34m\u001b[0m\u001b[0m\n",
      "\u001b[0;31mAttributeError\u001b[0m: 'NoneType' object has no attribute 'display_name'"
     ]
    }
   ],
   "source": [
    "details = plot.details\n",
    "item = details.graphics\n",
    "index = details.index\n",
    "key = details.key\n",
    "tag = details.tag\n",
    "action = details.actionType\n",
    "print(\"You clicked on {} {} (element with coordinates [{},{}])\".format(item.display_name, type(item).__name__, item.x[index], item.y[index]))\n",
    "print(\"Key pressed = {} Tag = {} Action = {}\".format(key, tag, action))"
   ]
  },
  {
   "cell_type": "code",
   "execution_count": 22,
   "id": "beneficial-headset",
   "metadata": {},
   "outputs": [
    {
     "data": {
      "application/vnd.jupyter.widget-view+json": {
       "model_id": "f92d53274f204a5ea054105f40fcd580",
       "version_major": 2,
       "version_minor": 0
      }
     },
     "metadata": {},
     "output_type": "display_data"
    }
   ],
   "source": [
    "barsPlot = Plot(useToolTip = False);\n",
    "bars = Bars(x = list(range(1,6)), y = [5, 2, 4, 3, 7], color = Color.green, outlineColor = Color.black, width = 0.3)\n",
    "\n",
    "\n",
    "def on_space(info):\n",
    "    info.graphics.y[info.index] += 1\n",
    "    \n",
    "def on_caps_lock(info):\n",
    "    info.graphics.y[info.index] -= 1\n",
    "\n",
    "#Also buttons like KeyboardCodes.UP_ARROW is handled by jupyter notebook\n",
    "bars.onKey(KeyboardCodes.SPACE, on_space)\n",
    "\n",
    "#Also buttons like KeyboardCodes.DOWN_ARROW is handled by jupyter notebook\n",
    "bars.onKey(KeyboardCodes.CAPS_LOCK, on_caps_lock)\n",
    "        \n",
    "#Tag events working\n",
    "bars.onKey(\"T\", \"run_tag2\")\n",
    "\n",
    "barsPlot.add(bars)"
   ]
  },
  {
   "cell_type": "code",
   "execution_count": 23,
   "id": "lucky-bulletin",
   "metadata": {},
   "outputs": [
    {
     "ename": "AttributeError",
     "evalue": "'NoneType' object has no attribute 'x'",
     "output_type": "error",
     "traceback": [
      "\u001b[0;31m---------------------------------------------------------------------------\u001b[0m",
      "\u001b[0;31mAttributeError\u001b[0m                            Traceback (most recent call last)",
      "\u001b[0;32m<ipython-input-23-860014c416a5>\u001b[0m in \u001b[0;36m<module>\u001b[0;34m\u001b[0m\n\u001b[1;32m      5\u001b[0m \u001b[0mtag\u001b[0m \u001b[0;34m=\u001b[0m \u001b[0mdetails\u001b[0m\u001b[0;34m.\u001b[0m\u001b[0mtag\u001b[0m\u001b[0;34m\u001b[0m\u001b[0;34m\u001b[0m\u001b[0m\n\u001b[1;32m      6\u001b[0m \u001b[0maction\u001b[0m \u001b[0;34m=\u001b[0m \u001b[0mdetails\u001b[0m\u001b[0;34m.\u001b[0m\u001b[0mactionType\u001b[0m\u001b[0;34m\u001b[0m\u001b[0;34m\u001b[0m\u001b[0m\n\u001b[0;32m----> 7\u001b[0;31m \u001b[0mprint\u001b[0m\u001b[0;34m(\u001b[0m\u001b[0;34m\"Key action on {} (element with coordinates [{}, {}])\"\u001b[0m\u001b[0;34m.\u001b[0m\u001b[0mformat\u001b[0m\u001b[0;34m(\u001b[0m\u001b[0mtype\u001b[0m\u001b[0;34m(\u001b[0m\u001b[0mitem\u001b[0m\u001b[0;34m)\u001b[0m\u001b[0;34m.\u001b[0m\u001b[0m__name__\u001b[0m\u001b[0;34m,\u001b[0m \u001b[0mitem\u001b[0m\u001b[0;34m.\u001b[0m\u001b[0mx\u001b[0m\u001b[0;34m[\u001b[0m\u001b[0mindex\u001b[0m\u001b[0;34m]\u001b[0m\u001b[0;34m,\u001b[0m \u001b[0mitem\u001b[0m\u001b[0;34m.\u001b[0m\u001b[0my\u001b[0m\u001b[0;34m[\u001b[0m\u001b[0mindex\u001b[0m\u001b[0;34m]\u001b[0m\u001b[0;34m)\u001b[0m\u001b[0;34m)\u001b[0m\u001b[0;34m\u001b[0m\u001b[0;34m\u001b[0m\u001b[0m\n\u001b[0m\u001b[1;32m      8\u001b[0m \u001b[0mprint\u001b[0m\u001b[0;34m(\u001b[0m\u001b[0;34m\"Key pressed  = {} Tag = {} Action = {}\"\u001b[0m\u001b[0;34m.\u001b[0m\u001b[0mformat\u001b[0m\u001b[0;34m(\u001b[0m\u001b[0mkey\u001b[0m\u001b[0;34m,\u001b[0m \u001b[0mtag\u001b[0m\u001b[0;34m,\u001b[0m \u001b[0maction\u001b[0m\u001b[0;34m)\u001b[0m\u001b[0;34m)\u001b[0m\u001b[0;34m\u001b[0m\u001b[0;34m\u001b[0m\u001b[0m\n",
      "\u001b[0;31mAttributeError\u001b[0m: 'NoneType' object has no attribute 'x'"
     ]
    }
   ],
   "source": [
    "details = barsPlot.details\n",
    "item = details.graphics\n",
    "index = details.index\n",
    "key = details.key\n",
    "tag = details.tag\n",
    "action = details.actionType\n",
    "print(\"Key action on {} (element with coordinates [{}, {}])\".format(type(item).__name__, item.x[index], item.y[index]))\n",
    "print(\"Key pressed  = {} Tag = {} Action = {}\".format(key, tag, action))"
   ]
  },
  {
   "cell_type": "code",
   "execution_count": 24,
   "id": "precious-provincial",
   "metadata": {},
   "outputs": [
    {
     "data": {
      "application/vnd.jupyter.widget-view+json": {
       "model_id": "dde169ec43324469a643283966bcce33",
       "version_major": 2,
       "version_minor": 0
      }
     },
     "metadata": {},
     "output_type": "display_data"
    }
   ],
   "source": [
    "barsPlot = Plot(useToolTip = False);\n",
    "bars = Bars(x = list(range(1,5)), y = [5, 2, 4, 3, 7], color = Color.green, outlineColor = Color.black, width = 0.3)\n",
    "        \n",
    "#Buttons like KeyboardCodes.UP_ARROW is handled by jupyter notebook\n",
    "def on_space(info):\n",
    "    global abc\n",
    "    abc+=1\n",
    "    beakerx.runByTag('run_tag3')\n",
    "    \n",
    "bars.onKey(KeyboardCodes.SPACE, on_space)\n",
    "barsPlot.add(bars)"
   ]
  },
  {
   "cell_type": "code",
   "execution_count": 25,
   "id": "bored-beauty",
   "metadata": {},
   "outputs": [
    {
     "name": "stdout",
     "output_type": "stream",
     "text": [
      "0\n"
     ]
    }
   ],
   "source": [
    "print(abc)"
   ]
  },
  {
   "cell_type": "code",
   "execution_count": null,
   "id": "executed-sense",
   "metadata": {},
   "outputs": [],
   "source": []
  }
 ],
 "metadata": {
  "kernelspec": {
   "display_name": "stockv1",
   "language": "python",
   "name": "stockv1"
  },
  "language_info": {
   "codemirror_mode": {
    "name": "ipython",
    "version": 3
   },
   "file_extension": ".py",
   "mimetype": "text/x-python",
   "name": "python",
   "nbconvert_exporter": "python",
   "pygments_lexer": "ipython3",
   "version": "3.6.13"
  }
 },
 "nbformat": 4,
 "nbformat_minor": 5
}
