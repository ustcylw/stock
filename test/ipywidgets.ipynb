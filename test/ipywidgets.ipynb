{
 "cells": [
  {
   "cell_type": "markdown",
   "id": "dominican-beach",
   "metadata": {},
   "source": [
    "# BEGINNING\n",
    "## 添加小部件"
   ]
  },
  {
   "cell_type": "markdown",
   "id": "little-ferry",
   "metadata": {},
   "source": [
    "# TODO\n",
    " https://blog.csdn.net/weixin_46032351/article/details/103976347    \n",
    " https://blog.csdn.net/liuqixuan1994/article/details/86708381  \n",
    " http://codingdict.com/sources/py/ipywidgets.html  \n",
    " https://zhuanlan.zhihu.com/p/263411257?utm_source=wechat_session  "
   ]
  },
  {
   "cell_type": "code",
   "execution_count": 1,
   "id": "banned-combination",
   "metadata": {
    "ExecuteTime": {
     "end_time": "2021-04-27T08:15:36.995468Z",
     "start_time": "2021-04-27T08:15:36.989158Z"
    }
   },
   "outputs": [],
   "source": [
    "import ipywidgets as widgets"
   ]
  },
  {
   "cell_type": "code",
   "execution_count": 2,
   "id": "sunrise-collar",
   "metadata": {
    "ExecuteTime": {
     "end_time": "2021-04-27T08:15:37.599484Z",
     "start_time": "2021-04-27T08:15:37.572688Z"
    }
   },
   "outputs": [
    {
     "data": {
      "application/vnd.jupyter.widget-view+json": {
       "model_id": "fc78c270cb964ddca733fd61b0967c5c",
       "version_major": 2,
       "version_minor": 0
      },
      "text/plain": [
       "IntSlider(value=3, description='Slider：', max=10)"
      ]
     },
     "metadata": {},
     "output_type": "display_data"
    }
   ],
   "source": [
    "widgets.IntSlider(\n",
    "    min=0,\n",
    "    max=10,\n",
    "    step=1,\n",
    "    description='Slider：',\n",
    "    value=3\n",
    ")"
   ]
  },
  {
   "cell_type": "markdown",
   "id": "agreed-context",
   "metadata": {},
   "source": [
    "## 显示\n",
    "在display()函数中传递小部件作为参数"
   ]
  },
  {
   "cell_type": "code",
   "execution_count": 3,
   "id": "fleet-planning",
   "metadata": {
    "ExecuteTime": {
     "end_time": "2021-04-27T08:15:40.196168Z",
     "start_time": "2021-04-27T08:15:40.194161Z"
    }
   },
   "outputs": [],
   "source": [
    "from IPython.display import display"
   ]
  },
  {
   "cell_type": "code",
   "execution_count": 4,
   "id": "heard-custom",
   "metadata": {
    "ExecuteTime": {
     "end_time": "2021-04-27T08:15:40.862804Z",
     "start_time": "2021-04-27T08:15:40.835837Z"
    }
   },
   "outputs": [
    {
     "data": {
      "application/vnd.jupyter.widget-view+json": {
       "model_id": "25b1a8e109e443f083b37bc8f166e772",
       "version_major": 2,
       "version_minor": 0
      },
      "text/plain": [
       "IntSlider(value=0)"
      ]
     },
     "metadata": {},
     "output_type": "display_data"
    }
   ],
   "source": [
    "slider = widgets.IntSlider()\n",
    "display(slider)"
   ]
  },
  {
   "cell_type": "markdown",
   "id": "sunrise-zealand",
   "metadata": {},
   "source": [
    "## 获取/设置它的值\n",
    "要读取小部件的值，我们将查询它的value属性。同样，我们可以设置小部件的值："
   ]
  },
  {
   "cell_type": "code",
   "execution_count": 5,
   "id": "nominated-tournament",
   "metadata": {
    "ExecuteTime": {
     "end_time": "2021-04-27T08:16:20.512581Z",
     "start_time": "2021-04-27T08:16:20.505686Z"
    }
   },
   "outputs": [
    {
     "data": {
      "application/vnd.jupyter.widget-view+json": {
       "model_id": "e8b5f6e3e619472cbf0ff9fd137a2e3b",
       "version_major": 2,
       "version_minor": 0
      },
      "text/plain": [
       "IntSlider(value=0)"
      ]
     },
     "metadata": {},
     "output_type": "display_data"
    }
   ],
   "source": [
    "slider = widgets.IntSlider()\n",
    "display(slider)"
   ]
  },
  {
   "cell_type": "code",
   "execution_count": 6,
   "id": "interesting-clearing",
   "metadata": {
    "ExecuteTime": {
     "end_time": "2021-04-27T08:16:29.304337Z",
     "start_time": "2021-04-27T08:16:29.281208Z"
    }
   },
   "outputs": [
    {
     "data": {
      "text/plain": [
       "0"
      ]
     },
     "execution_count": 6,
     "metadata": {},
     "output_type": "execute_result"
    }
   ],
   "source": [
    "slider.value"
   ]
  },
  {
   "cell_type": "code",
   "execution_count": 7,
   "id": "artistic-facility",
   "metadata": {
    "ExecuteTime": {
     "end_time": "2021-04-27T08:16:29.881593Z",
     "start_time": "2021-04-27T08:16:29.873726Z"
    }
   },
   "outputs": [],
   "source": [
    "slider.value = 20"
   ]
  },
  {
   "cell_type": "markdown",
   "id": "assisted-green",
   "metadata": {},
   "source": [
    "## 连接两个小部件\n",
    "使用jslink()函数同步两个小部件的值。"
   ]
  },
  {
   "cell_type": "code",
   "execution_count": 8,
   "id": "aggressive-surveillance",
   "metadata": {
    "ExecuteTime": {
     "end_time": "2021-04-27T08:16:30.723817Z",
     "start_time": "2021-04-27T08:16:30.701304Z"
    }
   },
   "outputs": [
    {
     "data": {
      "application/vnd.jupyter.widget-view+json": {
       "model_id": "98be49c38c504cd8bfb668722f7e8319",
       "version_major": 2,
       "version_minor": 0
      },
      "text/plain": [
       "IntSlider(value=0)"
      ]
     },
     "metadata": {},
     "output_type": "display_data"
    },
    {
     "data": {
      "application/vnd.jupyter.widget-view+json": {
       "model_id": "bf8b8eb6f2d2433aace7425bdb0aef78",
       "version_major": 2,
       "version_minor": 0
      },
      "text/plain": [
       "IntText(value=0)"
      ]
     },
     "metadata": {},
     "output_type": "display_data"
    },
    {
     "data": {
      "text/plain": [
       "Link(source=(IntSlider(value=0), 'value'), target=(IntText(value=0), 'value'))"
      ]
     },
     "metadata": {},
     "output_type": "display_data"
    }
   ],
   "source": [
    "slider = widgets.IntSlider()\n",
    "text = widgets.IntText()\n",
    "display(slider, text)\n",
    "widgets.jslink((slider, 'value'), (text, 'value'))"
   ]
  },
  {
   "cell_type": "markdown",
   "id": "linear-stereo",
   "metadata": {},
   "source": [
    "## 小部件列表\n",
    "有关小部件的完整列表，你可以查看文档，或运行以下命令："
   ]
  },
  {
   "cell_type": "code",
   "execution_count": 9,
   "id": "optimum-amino",
   "metadata": {
    "ExecuteTime": {
     "end_time": "2021-04-27T08:16:33.068362Z",
     "start_time": "2021-04-27T08:16:33.065826Z"
    },
    "tags": []
   },
   "outputs": [
    {
     "name": "stdout",
     "output_type": "stream",
     "text": [
      "['Accordion', 'AppLayout', 'Audio', 'BoundedFloatText', 'BoundedIntText', 'Box', 'Button', 'ButtonStyle', 'CallbackDispatcher', 'Checkbox', 'Color', 'ColorPicker', 'Combobox', 'Controller', 'CoreWidget', 'DOMWidget', 'DatePicker', 'Datetime', 'Dropdown', 'FileUpload', 'FloatLogSlider', 'FloatProgress', 'FloatRangeSlider', 'FloatSlider', 'FloatText', 'GridBox', 'GridspecLayout', 'HBox', 'HTML', 'HTMLMath', 'Image', 'IntProgress', 'IntRangeSlider', 'IntSlider', 'IntText', 'Label', 'Layout', 'NumberFormat', 'Output', 'Password', 'Play', 'RadioButtons', 'Select', 'SelectMultiple', 'SelectionRangeSlider', 'SelectionSlider', 'SliderStyle', 'Style', 'Tab', 'Text', 'Textarea', 'ToggleButton', 'ToggleButtons', 'ToggleButtonsStyle', 'TwoByTwoLayout', 'VBox', 'Valid', 'ValueWidget', 'Video', 'Widget', '__builtins__', '__cached__', '__doc__', '__file__', '__jupyter_widgets_base_version__', '__jupyter_widgets_controls_version__', '__loader__', '__name__', '__package__', '__path__', '__protocol_version__', '__spec__', '__version__', '_handle_ipython', '_version', 'dlink', 'docutils', 'domwidget', 'fixed', 'get_ipython', 'handle_kernel', 'interact', 'interact_manual', 'interaction', 'interactive', 'interactive_output', 'jsdlink', 'jslink', 'link', 'load_ipython_extension', 'os', 'register', 'register_comm_target', 'trait_types', 'util', 'valuewidget', 'version_info', 'widget', 'widget_bool', 'widget_box', 'widget_button', 'widget_color', 'widget_controller', 'widget_core', 'widget_date', 'widget_description', 'widget_float', 'widget_int', 'widget_layout', 'widget_link', 'widget_media', 'widget_output', 'widget_selection', 'widget_selectioncontainer', 'widget_serialization', 'widget_string', 'widget_style', 'widget_templates', 'widget_upload', 'widgets']\n"
     ]
    }
   ],
   "source": [
    "print(dir(widgets))"
   ]
  },
  {
   "cell_type": "markdown",
   "id": "acquired-score",
   "metadata": {},
   "source": [
    "# 处理小部件事件\n",
    "小部件可以响应事件，这些事件在用户与它们交互时引发。一个简单的例子是点击一个按钮——我们期待一个动作发生。\n",
    "\n",
    "让我们看看这是怎么工作的…\n",
    "\n",
    "根据其特定的特性，每个小部件公开不同的事件。每次触发事件时都将执行事件处理程序。\n",
    "\n",
    "事件处理程序是响应事件的回调函数，它异步操作并处理接收到的输入。\n",
    "\n",
    "这里我们将创建一个名为btn的简单按钮。单击按钮时调用on_click方法。\n",
    "\n",
    "我们的事件处理程序btn_eventhandler将打印一条带有按钮标题的短消息——注意，处理程序的输入参数obj是按钮对象本身，它允许我们访问它的属性。\n",
    "\n",
    "要将事件与处理程序绑定，我们将后者分配给按钮的on_click方法。"
   ]
  },
  {
   "cell_type": "code",
   "execution_count": 10,
   "id": "mysterious-ranch",
   "metadata": {
    "ExecuteTime": {
     "end_time": "2021-04-27T08:16:33.863525Z",
     "start_time": "2021-04-27T08:16:33.856219Z"
    }
   },
   "outputs": [
    {
     "data": {
      "application/vnd.jupyter.widget-view+json": {
       "model_id": "739485f96d21486cb3b4afc9fd21f12d",
       "version_major": 2,
       "version_minor": 0
      },
      "text/plain": [
       "Button(description='Medium', style=ButtonStyle(), tooltip='this is a button')"
      ]
     },
     "metadata": {},
     "output_type": "display_data"
    }
   ],
   "source": [
    "btn = widgets.Button(description='Medium', tooltip='this is a button')\n",
    "\n",
    "def btn_click(btn_obj):\n",
    "#     print(f'hello button.\\n')\n",
    "    print(f'Hello from the {btn_obj.description} button!')\n",
    "\n",
    "btn.on_click(btn_click)\n",
    "\n",
    "display(btn)"
   ]
  },
  {
   "cell_type": "code",
   "execution_count": 11,
   "id": "increasing-regression",
   "metadata": {
    "ExecuteTime": {
     "end_time": "2021-04-27T08:16:35.151087Z",
     "start_time": "2021-04-27T08:16:34.705340Z"
    },
    "tags": []
   },
   "outputs": [],
   "source": [
    "%matplotlib inline\n",
    "from matplotlib.pyplot import *\n",
    "import ipywidgets\n",
    "from ipywidgets import widgets, interact"
   ]
  },
  {
   "cell_type": "code",
   "execution_count": 12,
   "id": "representative-sandwich",
   "metadata": {
    "ExecuteTime": {
     "end_time": "2021-04-27T08:16:35.418361Z",
     "start_time": "2021-04-27T08:16:35.407720Z"
    },
    "tags": []
   },
   "outputs": [
    {
     "data": {
      "application/vnd.jupyter.widget-view+json": {
       "model_id": "d38063aa63664eb896420d7fdeaef123",
       "version_major": 2,
       "version_minor": 0
      },
      "text/plain": [
       "Button(description='OK', style=ButtonStyle(), tooltip='this is a button', _dom_classes=('new button',))"
      ]
     },
     "metadata": {},
     "output_type": "display_data"
    }
   ],
   "source": [
    "btn = widgets.Button(description = \"OK\", tooltip = 'this is a button')\n",
    "btn.add_class('new button')\n",
    "def btn_click(sender):\n",
    "    print(f'hello button.\\n')\n",
    "#     print('Button %s clicked!' % sender.description)\n",
    "btn.on_click(btn_click)\n",
    "display(btn)"
   ]
  },
  {
   "cell_type": "code",
   "execution_count": 13,
   "id": "necessary-grain",
   "metadata": {
    "ExecuteTime": {
     "end_time": "2021-04-27T08:16:35.776901Z",
     "start_time": "2021-04-27T08:16:35.752668Z"
    },
    "tags": []
   },
   "outputs": [
    {
     "data": {
      "application/vnd.jupyter.widget-view+json": {
       "model_id": "21667f5df38b4979abbaf154208d31f3",
       "version_major": 2,
       "version_minor": 0
      },
      "text/plain": [
       "Button(description='OK', style=ButtonStyle(), tooltip='this is a button')"
      ]
     },
     "metadata": {},
     "output_type": "display_data"
    }
   ],
   "source": [
    "btn = ipywidgets.Button(description = \"OK\", tooltip = 'this is a button')\n",
    "def btn_click(sender):\n",
    "    print('Button %s clicked!' % sender.description)\n",
    "btn.on_click(btn_click)\n",
    "display(btn)"
   ]
  },
  {
   "cell_type": "code",
   "execution_count": 14,
   "id": "english-arkansas",
   "metadata": {
    "ExecuteTime": {
     "end_time": "2021-04-27T08:16:36.982497Z",
     "start_time": "2021-04-27T08:16:36.825321Z"
    },
    "tags": []
   },
   "outputs": [
    {
     "data": {
      "application/vnd.jupyter.widget-view+json": {
       "model_id": "262eccbe42d14a168f879d7a945dbb5d",
       "version_major": 2,
       "version_minor": 0
      },
      "text/plain": [
       "Button(description='Hi', style=ButtonStyle())"
      ]
     },
     "metadata": {},
     "output_type": "display_data"
    },
    {
     "data": {
      "application/vnd.jupyter.widget-view+json": {
       "model_id": "ec1d91b4ee4d4c059405588530506ce6",
       "version_major": 2,
       "version_minor": 0
      },
      "text/plain": [
       "Output()"
      ]
     },
     "metadata": {},
     "output_type": "display_data"
    }
   ],
   "source": [
    "%matplotlib inline\n",
    "\n",
    "from matplotlib.pyplot import *\n",
    "button = widgets.Button(description=\"Hi\")\n",
    "out = widgets.Output()\n",
    "\n",
    "ax = gca()\n",
    "# ax.plot([1,2],[1,2])\n",
    "# show()\n",
    "\n",
    "def on_button_clicked(b):\n",
    "    print(f'[-] hello button.')\n",
    "    with out:\n",
    "#         out.clear_output()\n",
    "#         out.observe(b)\n",
    "        print(f'Hello from the {b.description} button!')\n",
    "        ax.plot([2,3],[4,5])\n",
    "#         plot([2,3],[4,5])\n",
    "        show()\n",
    "\n",
    "button.on_click(on_button_clicked)\n",
    "\n",
    "display(button)\n",
    "\n",
    "with out:\n",
    "    plot([1,2],[1,2])\n",
    "    show()\n",
    "\n",
    "out"
   ]
  },
  {
   "cell_type": "code",
   "execution_count": 15,
   "id": "binding-firewall",
   "metadata": {
    "ExecuteTime": {
     "end_time": "2021-04-27T08:16:37.325187Z",
     "start_time": "2021-04-27T08:16:37.223182Z"
    },
    "jupyter": {
     "source_hidden": true
    },
    "tags": []
   },
   "outputs": [
    {
     "data": {
      "application/vnd.jupyter.widget-view+json": {
       "model_id": "72edab7ddb434613bbcd077f49b3f433",
       "version_major": 2,
       "version_minor": 0
      },
      "text/plain": [
       "Button(description='Button', style=ButtonStyle())"
      ]
     },
     "metadata": {},
     "output_type": "display_data"
    },
    {
     "data": {
      "application/vnd.jupyter.widget-view+json": {
       "model_id": "281978ba609a400396e6da87c13d4a86",
       "version_major": 2,
       "version_minor": 0
      },
      "text/plain": [
       "Output()"
      ]
     },
     "metadata": {},
     "output_type": "display_data"
    }
   ],
   "source": [
    "%matplotlib inline\n",
    "\n",
    "from matplotlib.pyplot import *\n",
    "\n",
    "button = ipywidgets.Button(description=\"Button\")\n",
    "out = ipywidgets.Output()\n",
    "\n",
    "def on_button_clicked(b):\n",
    "    print(f'[-] hello button.')\n",
    "    with out:\n",
    "        print(f'[=] hello button.')\n",
    "#         clear_output(True)\n",
    "#         plot([1,2],[2,1])\n",
    "        ax.plot([2,3],[4,5])\n",
    "        show()\n",
    "\n",
    "button.on_click(on_button_clicked)\n",
    "\n",
    "display(button)\n",
    "\n",
    "with out:\n",
    "    plot([1,2],[1,2])\n",
    "    show()\n",
    "\n",
    "out"
   ]
  },
  {
   "cell_type": "code",
   "execution_count": 16,
   "id": "sapphire-hawaii",
   "metadata": {
    "ExecuteTime": {
     "end_time": "2021-04-27T08:16:37.593497Z",
     "start_time": "2021-04-27T08:16:37.568283Z"
    },
    "jupyter": {
     "source_hidden": true
    },
    "tags": []
   },
   "outputs": [
    {
     "data": {
      "application/vnd.jupyter.widget-view+json": {
       "model_id": "d8f7be6ff1cd4db08b4d56db1c49f1a2",
       "version_major": 2,
       "version_minor": 0
      },
      "text/plain": [
       "Output()"
      ]
     },
     "metadata": {},
     "output_type": "display_data"
    },
    {
     "name": "stdout",
     "output_type": "stream",
     "text": [
      "prints to output area\n"
     ]
    }
   ],
   "source": [
    "import ipywidgets as widgets\n",
    "from IPython.display import display\n",
    "out = widgets.Output()\n",
    "display(out)\n",
    "\n",
    "print('prints to output area')\n",
    "\n",
    "with out:\n",
    "    print('prints to output widget')\n",
    "\n",
    "@out.capture()\n",
    "def func():\n",
    "    print('prints to output widget')"
   ]
  },
  {
   "cell_type": "markdown",
   "id": "nutritional-isaac",
   "metadata": {},
   "source": [
    "## button click"
   ]
  },
  {
   "cell_type": "code",
   "execution_count": 17,
   "id": "floppy-slide",
   "metadata": {
    "ExecuteTime": {
     "end_time": "2021-04-27T08:16:38.463118Z",
     "start_time": "2021-04-27T08:16:38.420933Z"
    },
    "tags": []
   },
   "outputs": [
    {
     "data": {
      "application/vnd.jupyter.widget-view+json": {
       "model_id": "8418e79d9127480c842984e30c88d372",
       "version_major": 2,
       "version_minor": 0
      },
      "text/plain": [
       "Button(description='Button', style=ButtonStyle())"
      ]
     },
     "metadata": {},
     "output_type": "display_data"
    },
    {
     "data": {
      "application/vnd.jupyter.widget-view+json": {
       "model_id": "006ce1cc241048aba56f563286fe065b",
       "version_major": 2,
       "version_minor": 0
      },
      "text/plain": [
       "Output()"
      ]
     },
     "metadata": {},
     "output_type": "display_data"
    },
    {
     "data": {
      "application/vnd.jupyter.widget-view+json": {
       "model_id": "b835ebfdb7d145d6bda8a27965cb6696",
       "version_major": 2,
       "version_minor": 0
      },
      "text/plain": [
       "Output()"
      ]
     },
     "metadata": {},
     "output_type": "display_data"
    }
   ],
   "source": [
    "%matplotlib inline\n",
    "from matplotlib.pyplot import *\n",
    "\n",
    "button = ipywidgets.Button(description=\"Button\")\n",
    "display(button)\n",
    "out = ipywidgets.Output()\n",
    "display(out)\n",
    "out2 = ipywidgets.Output()\n",
    "display(out2)\n",
    "\n",
    "count = 1\n",
    "\n",
    "# @out.capture()\n",
    "def on_button_clicked(b):\n",
    "    global count\n",
    "    print(f'[-] hello button.')\n",
    "    with out:\n",
    "        print(f'[=] hello button.')\n",
    "        show()\n",
    "    with out2:\n",
    "        out2.clear_output()\n",
    "        plot([count+2, count+3], [count+4, count+5])\n",
    "        show()\n",
    "    count += 1\n",
    "        \n",
    "button.on_click(on_button_clicked)\n",
    "\n",
    "# with out2:\n",
    "#     plot([1,2],[1,2])\n",
    "#     show()"
   ]
  },
  {
   "cell_type": "code",
   "execution_count": null,
   "id": "focused-distance",
   "metadata": {},
   "outputs": [],
   "source": []
  },
  {
   "cell_type": "markdown",
   "id": "detailed-exchange",
   "metadata": {},
   "source": [
    "# 控制部件的输出\n",
    "在本节中，我们将探索如何使用小部件来控制dataframe。我选择的样本数据集是“前往伦敦的国际游客数量”(Number of International Visitors to London)，它显示了伦敦游客在不同年份、不同季度、不同目的、不同持续时间、不同模式和不同国家的夜晚、访问次数和消费情况。"
   ]
  },
  {
   "cell_type": "code",
   "execution_count": null,
   "id": "dutch-pilot",
   "metadata": {},
   "outputs": [],
   "source": []
  },
  {
   "cell_type": "code",
   "execution_count": 18,
   "id": "binding-england",
   "metadata": {
    "ExecuteTime": {
     "end_time": "2021-04-27T08:16:41.187451Z",
     "start_time": "2021-04-27T08:16:41.136453Z"
    },
    "tags": []
   },
   "outputs": [
    {
     "data": {
      "text/html": [
       "<div>\n",
       "<style scoped>\n",
       "    .dataframe tbody tr th:only-of-type {\n",
       "        vertical-align: middle;\n",
       "    }\n",
       "\n",
       "    .dataframe tbody tr th {\n",
       "        vertical-align: top;\n",
       "    }\n",
       "\n",
       "    .dataframe thead th {\n",
       "        text-align: right;\n",
       "    }\n",
       "</style>\n",
       "<table border=\"1\" class=\"dataframe\">\n",
       "  <thead>\n",
       "    <tr style=\"text-align: right;\">\n",
       "      <th></th>\n",
       "      <th>ts_code</th>\n",
       "      <th>close</th>\n",
       "      <th>open</th>\n",
       "      <th>high</th>\n",
       "      <th>low</th>\n",
       "      <th>pre_close</th>\n",
       "      <th>change</th>\n",
       "      <th>pct_chg</th>\n",
       "      <th>vol</th>\n",
       "      <th>amount</th>\n",
       "    </tr>\n",
       "    <tr>\n",
       "      <th>trade_date</th>\n",
       "      <th></th>\n",
       "      <th></th>\n",
       "      <th></th>\n",
       "      <th></th>\n",
       "      <th></th>\n",
       "      <th></th>\n",
       "      <th></th>\n",
       "      <th></th>\n",
       "      <th></th>\n",
       "      <th></th>\n",
       "    </tr>\n",
       "  </thead>\n",
       "  <tbody>\n",
       "    <tr>\n",
       "      <th>1970-01-01 00:00:00.020201231</th>\n",
       "      <td>000002.SZ</td>\n",
       "      <td>28.7000</td>\n",
       "      <td>28.1800</td>\n",
       "      <td>28.8600</td>\n",
       "      <td>27.8600</td>\n",
       "      <td>28.1000</td>\n",
       "      <td>0.6000</td>\n",
       "      <td>2.1352</td>\n",
       "      <td>227443320.0</td>\n",
       "      <td>6.480807e+09</td>\n",
       "    </tr>\n",
       "    <tr>\n",
       "      <th>1970-01-01 00:00:00.020201225</th>\n",
       "      <td>000002.SZ</td>\n",
       "      <td>28.1000</td>\n",
       "      <td>28.3000</td>\n",
       "      <td>28.5200</td>\n",
       "      <td>27.5600</td>\n",
       "      <td>28.5000</td>\n",
       "      <td>-0.4000</td>\n",
       "      <td>-1.4035</td>\n",
       "      <td>268611884.0</td>\n",
       "      <td>7.521593e+09</td>\n",
       "    </tr>\n",
       "    <tr>\n",
       "      <th>1970-01-01 00:00:00.020201218</th>\n",
       "      <td>000002.SZ</td>\n",
       "      <td>28.5000</td>\n",
       "      <td>28.6000</td>\n",
       "      <td>28.9900</td>\n",
       "      <td>28.2400</td>\n",
       "      <td>28.4600</td>\n",
       "      <td>0.0400</td>\n",
       "      <td>0.1405</td>\n",
       "      <td>268220901.0</td>\n",
       "      <td>7.672228e+09</td>\n",
       "    </tr>\n",
       "    <tr>\n",
       "      <th>1970-01-01 00:00:00.020201211</th>\n",
       "      <td>000002.SZ</td>\n",
       "      <td>28.4600</td>\n",
       "      <td>30.0500</td>\n",
       "      <td>30.1800</td>\n",
       "      <td>28.2000</td>\n",
       "      <td>30.0000</td>\n",
       "      <td>-1.5400</td>\n",
       "      <td>-5.1333</td>\n",
       "      <td>295292444.0</td>\n",
       "      <td>8.558772e+09</td>\n",
       "    </tr>\n",
       "    <tr>\n",
       "      <th>1970-01-01 00:00:00.020201204</th>\n",
       "      <td>000002.SZ</td>\n",
       "      <td>30.0000</td>\n",
       "      <td>31.7000</td>\n",
       "      <td>32.7300</td>\n",
       "      <td>29.9400</td>\n",
       "      <td>31.6100</td>\n",
       "      <td>-1.6100</td>\n",
       "      <td>-5.0933</td>\n",
       "      <td>450396815.0</td>\n",
       "      <td>1.399440e+10</td>\n",
       "    </tr>\n",
       "    <tr>\n",
       "      <th>1970-01-01 00:00:00.020201127</th>\n",
       "      <td>000002.SZ</td>\n",
       "      <td>31.6100</td>\n",
       "      <td>30.7800</td>\n",
       "      <td>31.9000</td>\n",
       "      <td>30.1200</td>\n",
       "      <td>30.8700</td>\n",
       "      <td>0.7400</td>\n",
       "      <td>2.3971</td>\n",
       "      <td>293590692.0</td>\n",
       "      <td>9.097970e+09</td>\n",
       "    </tr>\n",
       "    <tr>\n",
       "      <th>1970-01-01 00:00:00.020201120</th>\n",
       "      <td>000002.SZ</td>\n",
       "      <td>30.8700</td>\n",
       "      <td>29.3900</td>\n",
       "      <td>31.1000</td>\n",
       "      <td>29.0000</td>\n",
       "      <td>29.0500</td>\n",
       "      <td>1.8200</td>\n",
       "      <td>6.2651</td>\n",
       "      <td>385877902.0</td>\n",
       "      <td>1.169653e+10</td>\n",
       "    </tr>\n",
       "    <tr>\n",
       "      <th>1970-01-01 00:00:00.020201113</th>\n",
       "      <td>000002.SZ</td>\n",
       "      <td>29.0500</td>\n",
       "      <td>29.7200</td>\n",
       "      <td>30.2500</td>\n",
       "      <td>28.8300</td>\n",
       "      <td>29.4600</td>\n",
       "      <td>-0.4100</td>\n",
       "      <td>-1.3917</td>\n",
       "      <td>342935973.0</td>\n",
       "      <td>1.013269e+10</td>\n",
       "    </tr>\n",
       "    <tr>\n",
       "      <th>1970-01-01 00:00:00.020201106</th>\n",
       "      <td>000002.SZ</td>\n",
       "      <td>29.4600</td>\n",
       "      <td>27.6600</td>\n",
       "      <td>29.5700</td>\n",
       "      <td>27.6600</td>\n",
       "      <td>27.5500</td>\n",
       "      <td>1.9100</td>\n",
       "      <td>6.9328</td>\n",
       "      <td>395302040.0</td>\n",
       "      <td>1.129485e+10</td>\n",
       "    </tr>\n",
       "    <tr>\n",
       "      <th>1970-01-01 00:00:00.020201030</th>\n",
       "      <td>000002.SZ</td>\n",
       "      <td>27.5500</td>\n",
       "      <td>28.0000</td>\n",
       "      <td>28.4100</td>\n",
       "      <td>26.6200</td>\n",
       "      <td>27.8800</td>\n",
       "      <td>-0.3300</td>\n",
       "      <td>-1.1836</td>\n",
       "      <td>350728902.0</td>\n",
       "      <td>9.660304e+09</td>\n",
       "    </tr>\n",
       "    <tr>\n",
       "      <th>1970-01-01 00:00:00.020201023</th>\n",
       "      <td>000002.SZ</td>\n",
       "      <td>27.8800</td>\n",
       "      <td>28.0000</td>\n",
       "      <td>28.5900</td>\n",
       "      <td>27.2800</td>\n",
       "      <td>27.8600</td>\n",
       "      <td>0.0200</td>\n",
       "      <td>0.0718</td>\n",
       "      <td>340556633.0</td>\n",
       "      <td>9.480001e+09</td>\n",
       "    </tr>\n",
       "    <tr>\n",
       "      <th>1970-01-01 00:00:00.020201016</th>\n",
       "      <td>000002.SZ</td>\n",
       "      <td>27.8600</td>\n",
       "      <td>28.1600</td>\n",
       "      <td>28.5900</td>\n",
       "      <td>27.5700</td>\n",
       "      <td>28.0300</td>\n",
       "      <td>-0.1700</td>\n",
       "      <td>-0.6065</td>\n",
       "      <td>306240075.0</td>\n",
       "      <td>8.563058e+09</td>\n",
       "    </tr>\n",
       "    <tr>\n",
       "      <th>1970-01-01 00:00:00.020201009</th>\n",
       "      <td>000002.SZ</td>\n",
       "      <td>28.0300</td>\n",
       "      <td>28.0500</td>\n",
       "      <td>28.2900</td>\n",
       "      <td>27.7400</td>\n",
       "      <td>28.0200</td>\n",
       "      <td>0.0100</td>\n",
       "      <td>0.0357</td>\n",
       "      <td>68434585.0</td>\n",
       "      <td>1.913388e+09</td>\n",
       "    </tr>\n",
       "    <tr>\n",
       "      <th>1970-01-01 00:00:00.020200930</th>\n",
       "      <td>000002.SZ</td>\n",
       "      <td>28.0200</td>\n",
       "      <td>27.8000</td>\n",
       "      <td>28.7700</td>\n",
       "      <td>27.6600</td>\n",
       "      <td>27.6200</td>\n",
       "      <td>0.4000</td>\n",
       "      <td>1.4482</td>\n",
       "      <td>157242802.0</td>\n",
       "      <td>4.453465e+09</td>\n",
       "    </tr>\n",
       "    <tr>\n",
       "      <th>1970-01-01 00:00:00.020200925</th>\n",
       "      <td>000002.SZ</td>\n",
       "      <td>27.6200</td>\n",
       "      <td>29.2900</td>\n",
       "      <td>29.5600</td>\n",
       "      <td>27.4000</td>\n",
       "      <td>29.3000</td>\n",
       "      <td>-1.6800</td>\n",
       "      <td>-5.7338</td>\n",
       "      <td>295695969.0</td>\n",
       "      <td>8.462274e+09</td>\n",
       "    </tr>\n",
       "    <tr>\n",
       "      <th>1970-01-01 00:00:00.020200918</th>\n",
       "      <td>000002.SZ</td>\n",
       "      <td>29.3000</td>\n",
       "      <td>28.0100</td>\n",
       "      <td>29.3000</td>\n",
       "      <td>27.4800</td>\n",
       "      <td>28.0000</td>\n",
       "      <td>1.3000</td>\n",
       "      <td>4.6429</td>\n",
       "      <td>390806450.0</td>\n",
       "      <td>1.109298e+10</td>\n",
       "    </tr>\n",
       "    <tr>\n",
       "      <th>1970-01-01 00:00:00.020200911</th>\n",
       "      <td>000002.SZ</td>\n",
       "      <td>28.0000</td>\n",
       "      <td>27.9500</td>\n",
       "      <td>29.1700</td>\n",
       "      <td>27.6500</td>\n",
       "      <td>28.0700</td>\n",
       "      <td>-0.0700</td>\n",
       "      <td>-0.2494</td>\n",
       "      <td>453869077.0</td>\n",
       "      <td>1.293235e+10</td>\n",
       "    </tr>\n",
       "    <tr>\n",
       "      <th>1970-01-01 00:00:00.020200904</th>\n",
       "      <td>000002.SZ</td>\n",
       "      <td>28.0700</td>\n",
       "      <td>27.6100</td>\n",
       "      <td>28.2000</td>\n",
       "      <td>26.9300</td>\n",
       "      <td>27.5700</td>\n",
       "      <td>0.5000</td>\n",
       "      <td>1.8136</td>\n",
       "      <td>367362817.0</td>\n",
       "      <td>1.013806e+10</td>\n",
       "    </tr>\n",
       "    <tr>\n",
       "      <th>1970-01-01 00:00:00.020200828</th>\n",
       "      <td>000002.SZ</td>\n",
       "      <td>27.5700</td>\n",
       "      <td>27.5800</td>\n",
       "      <td>27.7500</td>\n",
       "      <td>26.5400</td>\n",
       "      <td>27.3600</td>\n",
       "      <td>0.2100</td>\n",
       "      <td>0.7675</td>\n",
       "      <td>301020248.0</td>\n",
       "      <td>8.203227e+09</td>\n",
       "    </tr>\n",
       "    <tr>\n",
       "      <th>1970-01-01 00:00:00.020200821</th>\n",
       "      <td>000002.SZ</td>\n",
       "      <td>27.3600</td>\n",
       "      <td>27.7400</td>\n",
       "      <td>28.6500</td>\n",
       "      <td>27.1600</td>\n",
       "      <td>27.6800</td>\n",
       "      <td>-0.3200</td>\n",
       "      <td>-1.1561</td>\n",
       "      <td>401131449.0</td>\n",
       "      <td>1.114333e+10</td>\n",
       "    </tr>\n",
       "    <tr>\n",
       "      <th>1970-01-01 00:00:00.020200814</th>\n",
       "      <td>000002.SZ</td>\n",
       "      <td>27.6800</td>\n",
       "      <td>27.0800</td>\n",
       "      <td>29.0600</td>\n",
       "      <td>27.0500</td>\n",
       "      <td>27.0300</td>\n",
       "      <td>0.6500</td>\n",
       "      <td>2.4047</td>\n",
       "      <td>507283019.0</td>\n",
       "      <td>1.421529e+10</td>\n",
       "    </tr>\n",
       "    <tr>\n",
       "      <th>1970-01-01 00:00:00.020200807</th>\n",
       "      <td>000002.SZ</td>\n",
       "      <td>26.0660</td>\n",
       "      <td>26.0563</td>\n",
       "      <td>26.9531</td>\n",
       "      <td>25.9406</td>\n",
       "      <td>25.8827</td>\n",
       "      <td>0.1833</td>\n",
       "      <td>0.7082</td>\n",
       "      <td>461124895.0</td>\n",
       "      <td>1.257156e+10</td>\n",
       "    </tr>\n",
       "    <tr>\n",
       "      <th>1970-01-01 00:00:00.020200731</th>\n",
       "      <td>000002.SZ</td>\n",
       "      <td>25.8827</td>\n",
       "      <td>26.2974</td>\n",
       "      <td>26.3070</td>\n",
       "      <td>25.3909</td>\n",
       "      <td>26.0660</td>\n",
       "      <td>-0.1833</td>\n",
       "      <td>-0.7032</td>\n",
       "      <td>395710412.0</td>\n",
       "      <td>1.061152e+10</td>\n",
       "    </tr>\n",
       "    <tr>\n",
       "      <th>1970-01-01 00:00:00.020200724</th>\n",
       "      <td>000002.SZ</td>\n",
       "      <td>26.0660</td>\n",
       "      <td>26.4131</td>\n",
       "      <td>27.5125</td>\n",
       "      <td>25.8924</td>\n",
       "      <td>26.2588</td>\n",
       "      <td>-0.1928</td>\n",
       "      <td>-0.7342</td>\n",
       "      <td>494267022.0</td>\n",
       "      <td>1.371679e+10</td>\n",
       "    </tr>\n",
       "    <tr>\n",
       "      <th>1970-01-01 00:00:00.020200717</th>\n",
       "      <td>000002.SZ</td>\n",
       "      <td>26.2588</td>\n",
       "      <td>27.8885</td>\n",
       "      <td>28.4479</td>\n",
       "      <td>25.9502</td>\n",
       "      <td>28.1296</td>\n",
       "      <td>-1.8708</td>\n",
       "      <td>-6.6506</td>\n",
       "      <td>690682397.0</td>\n",
       "      <td>1.964608e+10</td>\n",
       "    </tr>\n",
       "    <tr>\n",
       "      <th>1970-01-01 00:00:00.020200710</th>\n",
       "      <td>000002.SZ</td>\n",
       "      <td>28.1296</td>\n",
       "      <td>28.2550</td>\n",
       "      <td>30.8780</td>\n",
       "      <td>27.9560</td>\n",
       "      <td>27.6282</td>\n",
       "      <td>0.5014</td>\n",
       "      <td>1.8148</td>\n",
       "      <td>905662915.0</td>\n",
       "      <td>2.729429e+10</td>\n",
       "    </tr>\n",
       "    <tr>\n",
       "      <th>1970-01-01 00:00:00.020200703</th>\n",
       "      <td>000002.SZ</td>\n",
       "      <td>27.6282</td>\n",
       "      <td>25.1691</td>\n",
       "      <td>28.0814</td>\n",
       "      <td>24.7930</td>\n",
       "      <td>25.4584</td>\n",
       "      <td>2.1698</td>\n",
       "      <td>8.5229</td>\n",
       "      <td>809019082.0</td>\n",
       "      <td>2.232308e+10</td>\n",
       "    </tr>\n",
       "    <tr>\n",
       "      <th>1970-01-01 00:00:00.020200624</th>\n",
       "      <td>000002.SZ</td>\n",
       "      <td>25.4584</td>\n",
       "      <td>24.9570</td>\n",
       "      <td>25.5066</td>\n",
       "      <td>24.5809</td>\n",
       "      <td>25.0245</td>\n",
       "      <td>0.4339</td>\n",
       "      <td>1.7339</td>\n",
       "      <td>277043627.0</td>\n",
       "      <td>7.192158e+09</td>\n",
       "    </tr>\n",
       "    <tr>\n",
       "      <th>1970-01-01 00:00:00.020200619</th>\n",
       "      <td>000002.SZ</td>\n",
       "      <td>25.0245</td>\n",
       "      <td>24.5905</td>\n",
       "      <td>25.1884</td>\n",
       "      <td>24.5905</td>\n",
       "      <td>24.7930</td>\n",
       "      <td>0.2315</td>\n",
       "      <td>0.9337</td>\n",
       "      <td>325612880.0</td>\n",
       "      <td>8.410702e+09</td>\n",
       "    </tr>\n",
       "    <tr>\n",
       "      <th>1970-01-01 00:00:00.020200612</th>\n",
       "      <td>000002.SZ</td>\n",
       "      <td>24.7930</td>\n",
       "      <td>25.6416</td>\n",
       "      <td>25.8924</td>\n",
       "      <td>24.5423</td>\n",
       "      <td>25.4681</td>\n",
       "      <td>-0.6751</td>\n",
       "      <td>-2.6508</td>\n",
       "      <td>349801564.0</td>\n",
       "      <td>9.170535e+09</td>\n",
       "    </tr>\n",
       "    <tr>\n",
       "      <th>1970-01-01 00:00:00.020200605</th>\n",
       "      <td>000002.SZ</td>\n",
       "      <td>25.4681</td>"
      ],
      "text/plain": [
       "                                 ts_code    close     open     high      low  \\\n",
       "trade_date                                                                     \n",
       "1970-01-01 00:00:00.020201231  000002.SZ  28.7000  28.1800  28.8600  27.8600   \n",
       "1970-01-01 00:00:00.020201225  000002.SZ  28.1000  28.3000  28.5200  27.5600   \n",
       "1970-01-01 00:00:00.020201218  000002.SZ  28.5000  28.6000  28.9900  28.2400   \n",
       "1970-01-01 00:00:00.020201211  000002.SZ  28.4600  30.0500  30.1800  28.2000   \n",
       "1970-01-01 00:00:00.020201204  000002.SZ  30.0000  31.7000  32.7300  29.9400   \n",
       "1970-01-01 00:00:00.020201127  000002.SZ  31.6100  30.7800  31.9000  30.1200   \n",
       "1970-01-01 00:00:00.020201120  000002.SZ  30.8700  29.3900  31.1000  29.0000   \n",
       "1970-01-01 00:00:00.020201113  000002.SZ  29.0500  29.7200  30.2500  28.8300   \n",
       "1970-01-01 00:00:00.020201106  000002.SZ  29.4600  27.6600  29.5700  27.6600   \n",
       "1970-01-01 00:00:00.020201030  000002.SZ  27.5500  28.0000  28.4100  26.6200   \n",
       "1970-01-01 00:00:00.020201023  000002.SZ  27.8800  28.0000  28.5900  27.2800   \n",
       "1970-01-01 00:00:00.020201016  000002.SZ  27.8600  28.1600  28.5900  27.5700   \n",
       "1970-01-01 00:00:00.020201009  000002.SZ  28.0300  28.0500  28.2900  27.7400   \n",
       "1970-01-01 00:00:00.020200930  000002.SZ  28.0200  27.8000  28.7700  27.6600   \n",
       "1970-01-01 00:00:00.020200925  000002.SZ  27.6200  29.2900  29.5600  27.4000   \n",
       "1970-01-01 00:00:00.020200918  000002.SZ  29.3000  28.0100  29.3000  27.4800   \n",
       "1970-01-01 00:00:00.020200911  000002.SZ  28.0000  27.9500  29.1700  27.6500   \n",
       "1970-01-01 00:00:00.020200904  000002.SZ  28.0700  27.6100  28.2000  26.9300   \n",
       "1970-01-01 00:00:00.020200828  000002.SZ  27.5700  27.5800  27.7500  26.5400   \n",
       "1970-01-01 00:00:00.020200821  000002.SZ  27.3600  27.7400  28.6500  27.1600   \n",
       "1970-01-01 00:00:00.020200814  000002.SZ  27.6800  27.0800  29.0600  27.0500   \n",
       "1970-01-01 00:00:00.020200807  000002.SZ  26.0660  26.0563  26.9531  25.9406   \n",
       "1970-01-01 00:00:00.020200731  000002.SZ  25.8827  26.2974  26.3070  25.3909   \n",
       "1970-01-01 00:00:00.020200724  000002.SZ  26.0660  26.4131  27.5125  25.8924   \n",
       "1970-01-01 00:00:00.020200717  000002.SZ  26.2588  27.8885  28.4479  25.9502   \n",
       "1970-01-01 00:00:00.020200710  000002.SZ  28.1296  28.2550  30.8780  27.9560   \n",
       "1970-01-01 00:00:00.020200703  000002.SZ  27.6282  25.1691  28.0814  24.7930   \n",
       "1970-01-01 00:00:00.020200624  000002.SZ  25.4584  24.9570  25.5066  24.5809   \n",
       "1970-01-01 00:00:00.020200619  000002.SZ  25.0245  24.5905  25.1884  24.5905   \n",
       "1970-01-01 00:00:00.020200612  000002.SZ  24.7930  25.6416  25.8924  24.5423   \n",
       "1970-01-01 00:00:00.020200605  000002.SZ  25.4681  25.0534  26.9628  25.0534   \n",
       "1970-01-01 00:00:00.020200529  000002.SZ  24.7834  24.3302  25.6127  24.0698   \n",
       "1970-01-01 00:00:00.020200522  000002.SZ  24.2626  24.9088  25.5549  24.2434   \n",
       "1970-01-01 00:00:00.020200515  000002.SZ  24.5809  25.2656  25.5356  24.5037   \n",
       "1970-01-01 00:00:00.020200508  000002.SZ  25.3234  25.2656  25.4295  24.9570   \n",
       "1970-01-01 00:00:00.020200430  000002.SZ  25.8442  24.7930  26.1817  24.6484   \n",
       "1970-01-01 00:00:00.020200424  000002.SZ  24.7641  25.8249  25.8538  24.6195   \n",
       "1970-01-01 00:00:00.020200417  000002.SZ  25.7670  25.7863  26.7603  25.4584   \n",
       "1970-01-01 00:00:00.020200410  000002.SZ  25.9213  26.3649  26.4420  25.6416   \n",
       "1970-01-01 00:00:00.020200403  000002.SZ  25.8152  25.1691  26.2106  24.5905   \n",
       "1970-01-01 00:00:00.020200327  000002.SZ  25.6224  23.9541  26.1913  23.4912   \n",
       "1970-01-01 00:00:00.020200320  000002.SZ  24.8798  28.4093  28.4093  23.3176   \n",
       "1970-01-01 00:00:00.020200313  000002.SZ  28.3996  29.5086  30.4440  27.1942   \n",
       "1970-01-01 00:00:00.020200306  000002.SZ  30.0197  28.8336  31.5337  28.8336   \n",
       "1970-01-01 00:00:00.020200228  000002.SZ  28.5346  28.0621  29.8558  27.4064   \n",
       "1970-01-01 00:00:00.020200221  000002.SZ  28.2068  29.8365  29.8461  27.9657   \n",
       "1970-01-01 00:00:00.020200214  000002.SZ  29.7015  26.2781  29.7015  26.1527   \n",
       "1970-01-01 00:00:00.020200207  000002.SZ  26.5192  25.1595  27.1171  25.1498   \n",
       "1970-01-01 00:00:00.020200123  000002.SZ  27.9464  29.4122  29.4218  27.6571   \n",
       "1970-01-01 00:00:00.020200117  000002.SZ  29.3736  30.2801  30.6562  29.2386   \n",
       "1970-01-01 00:00:00.020200110  000002.SZ  30.3380  30.6176  31.3216  29.9426   \n",
       "1970-01-01 00:00:00.020200103  000002.SZ  30.9069  30.2319  32.4016  29.9136   \n",
       "\n",
       "                               pre_close  change  pct_chg          vol  \\\n",
       "trade_date                                                               \n",
       "1970-01-01 00:00:00.020201231    28.1000  0.6000   2.1352  227443320.0   \n",
       "1970-01-01 00:00:00.020201225    28.5000 -0.4000  -1.4035  268611884.0   \n",
       "1970-01-01 00:00:00.020201218    28.4600  0.0400   0.1405  268220901.0   \n",
       "1970-01-01 00:00:00.020201211    30.0000 -1.5400  -5.1333  295292444.0   \n",
       "1970-01-01 00:00:00.020201204    31.6100 -1.6100  -5.0933  450396815.0   \n",
       "1970-01-01 00:00:00.020201127    30.8700  0.7400   2.3971  293590692.0   \n",
       "1970-01-01 00:00:00.020201120    29.0500  1.8200   6.2651  385877902.0   \n",
       "1970-01-01 00:00:00.020201113    29.4600 -0.4100  -1.3917  342935973.0   \n",
       "1970-01-01 00:00:00.020201106    27.5500  1.9100   6.9328  395302040.0   \n",
       "1970-01-01 00:00:00.020201030    27.8800 -0.3300  -1.1836  350728902.0   \n",
       "1970-01-01 00:00:00.020201023    27.8600  0.0200   0.0718  340556633.0   \n",
       "1970-01-01 00:00:00.020201016    28.0300 -0.1700  -0.6065  306240075.0   \n",
       "1970-01-01 00:00:00.020201009    28.0200  0.0100   0.0357   68434585.0   \n",
       "1970-01-01 00:00:00.020200930    27.6200  0.4000   1.4482  157242802.0   \n",
       "1970-01-01 00:00:00.020200925    29.3000 -1.6800  -5.7338  295695969.0   \n",
       "1970-01-01 00:00:00.020200918    28.0000  1.3000   4.6429  390806450.0   \n",
       "1970-01-01 00:00:00.020200911    28.0700 -0.0700  -0.2494  453869077.0   \n",
       "1970-01-01 00:00:00.020200904    27.5700  0.5000   1.8136  367362817.0   \n",
       "1970-01-01 00:00:00.020200828    27.3600  0.2100   0.7675  301020248.0   \n",
       "1970-01-01 00:00:00.020200821    27.6800 -0.3200  -1.1561  401131449.0   \n",
       "1970-01-01 00:00:00.020200814    27.0300  0.6500   2.4047  507283019.0   \n",
       "1970-01-01 00:00:00.020200807    25.8827  0.1833   0.7082  461124895.0   \n",
       "1970-01-01 00:00:00.020200731    26.0660 -0.1833  -0.7032  395710412.0   \n",
       "1970-01-01 00:00:00.020200724    26.2588 -0.1928  -0.7342  494267022.0   \n",
       "1970-01-01 00:00:00.020200717    28.1296 -1.8708  -6.6506  690682397.0   \n",
       "1970-01-01 00:00:00.020200710    27.6282  0.5014   1.8148  905662915.0   \n",
       "1970-01-01 00:00:00.020200703    25.4584  2.1698   8.5229  809019082.0   \n",
       "1970-01-01 00:00:00.020200624    25.0245  0.4339   1.7339  277043627.0   \n",
       "1970-01-01 00:00:00.020200619    24.7930  0.2315   0.9337  325612880.0   \n",
       "1970-01-01 00:00:00.020200612    25.4681 -0.6751  -2.6508  349801564.0   \n",
       "1970-01-01 00:00:00.020200605    24.7834  0.6847   2.7627  410129771.0   \n",
       "1970-01-01 00:00:00.020200529    24.2626  0.5208   2.1465  285133985.0   \n",
       "1970-01-01 00:00:00.020200522    24.5809 -0.3183  -1.2949  411639901.0   \n",
       "1970-01-01 00:00:00.020200515    25.3234 -0.7425  -2.9321  336489146.0   \n",
       "1970-01-01 00:00:00.020200508    25.8442 -0.5208  -2.0152  240944392.0   \n",
       "1970-01-01 00:00:00.020200430    24.7641  1.0801   4.3616  298874694.0   \n",
       "1970-01-01 00:00:00.020200424    25.7670 -1.0029  -3.8922  311471744.0   \n",
       "1970-01-01 00:00:00.020200417    25.9213 -0.1543  -0.5953  311918280.0   \n",
       "1970-01-01 00:00:00.020200410    25.8152  0.1061   0.4110  209591977.0   \n",
       "1970-01-01 00:00:00.020200403    25.6224  0.1928   0.7525  376394400.0   \n",
       "1970-01-01 00:00:00.020200327    24.8798  0.7426   2.9848  454658231.0   \n",
       "1970-01-01 00:00:00.020200320    28.3996 -3.5198 -12.3938  577146719.0   \n",
       "1970-01-01 00:00:00.020200313    30.0197 -1.6201  -5.3968  349895057.0   \n",
       "1970-01-01 00:00:00.020200306    28.5346  1.4851   5.2046  505207421.0   \n",
       "1970-01-01 00:00:00.020200228    28.2068  0.3278   1.1621  568148087.0   \n",
       "1970-01-01 00:00:00.020200221    29.7015 -1.4947  -5.0324  427749591.0   \n",
       "1970-01-01 00:00:00.020200214    26.5192  3.1823  12.0000  410758014.0   \n",
       "1970-01-01 00:00:00.020200207    27.9464 -1.4272  -5.1069  495348892.0   \n",
       "1970-01-01 00:00:00.020200123    29.3736 -1.4272  -4.8588  365826597.0   \n",
       "1970-01-01 00:00:00.020200117    30.3380 -0.9644  -3.1789  276702087.0   \n",
       "1970-01-01 00:00:00.020200110    30.9069 -0.5689  -1.8407  332594904.0   \n",
       "1970-01-01 00:00:00.020200103    29.8944  1.0125   3.3869  339691609.0   \n",
       "\n",
       "                                     amount  \n",
       "trade_date                                   \n",
       "1970-01-01 00:00:00.020201231  6.480807e+09  \n",
       "1970-01-01 00:00:00.020201225  7.521593e+09  \n",
       "1970-01-01 00:00:00.020201218  7.672228e+09  \n",
       "1970-01-01 00:00:00.020201211  8.558772e+09  \n",
       "1970-01-01 00:00:00.020201204  1.399440e+10  \n",
       "1970-01-01 00:00:00.020201127  9.097970e+09  \n",
       "1970-01-01 00:00:00.020201120  1.169653e+10  \n",
       "1970-01-01 00:00:00.020201113  1.013269e+10  \n",
       "1970-01-01 00:00:00.020201106  1.129485e+10  \n",
       "1970-01-01 00:00:00.020201030  9.660304e+09  \n",
       "1970-01-01 00:00:00.020201023  9.480001e+09  \n",
       "1970-01-01 00:00:00.020201016  8.563058e+09  \n",
       "1970-01-01 00:00:00.020201009  1.913388e+09  \n",
       "1970-01-01 00:00:00.020200930  4.453465e+09  \n",
       "1970-01-01 00:00:00.020200925  8.462274e+09  \n",
       "1970-01-01 00:00:00.020200918  1.109298e+10  \n",
       "1970-01-01 00:00:00.020200911  1.293235e+10  \n",
       "1970-01-01 00:00:00.020200904  1.013806e+10  \n",
       "1970-01-01 00:00:00.020200828  8.203227e+09  \n",
       "1970-01-01 00:00:00.020200821  1.114333e+10  \n",
       "1970-01-01 00:00:00.020200814  1.421529e+10  \n",
       "1970-01-01 00:00:00.020200807  1.257156e+10  \n",
       "1970-01-01 00:00:00.020200731  1.061152e+10  \n",
       "1970-01-01 00:00:00.020200724  1.371679e+10  \n",
       "1970-01-01 00:00:00.020200717  1.964608e+10  \n",
       "1970-01-01 00:00:00.020200710  2.729429e+10  \n",
       "1970-01-01 00:00:00.020200703  2.232308e+10  \n",
       "1970-01-01 00:00:00.020200624  7.192158e+09  \n",
       "1970-01-01 00:00:00.020200619  8.410702e+09  \n",
       "1970-01-01 00:00:00.020200612  9.170535e+09  \n",
       "1970-01-01 00:00:00.020200605  1.096409e+10  \n",
       "1970-01-01 00:00:00.020200529  7.370584e+09  \n",
       "1970-01-01 00:00:00.020200522  1.065445e+10  \n",
       "1970-01-01 00:00:00.020200515  8.711258e+09  \n",
       "1970-01-01 00:00:00.020200"
      ]
     },
     "execution_count": 18,
     "metadata": {},
     "output_type": "execute_result"
    },
    {
     "data": {
      "text/html": [
       "<b>limit_output extension: Maximum message size of 10000 exceeded with 16617 characters</b>"
      ]
     },
     "metadata": {},
     "output_type": "display_data"
    }
   ],
   "source": [
    "# 首先，我们将获取数据并将其加载到一个dataframe中：\n",
    "import pandas as pd\n",
    "import numpy as np\n",
    "df = pd.read_csv('/data2/store/code/001/database/dbdata/000002.SZ/2020/20200101--20201231--W--qfq.csv',index_col=0,parse_dates=True)\n",
    "df.shape\n",
    "# df.head(3)\n",
    "# df.tail(3)\n",
    "df['trade_date'] = pd.to_datetime(df['trade_date'])\n",
    "df.index.name = 'trade_date'\n",
    "df.set_index('trade_date')"
   ]
  },
  {
   "cell_type": "code",
   "execution_count": 19,
   "id": "cleared-crash",
   "metadata": {
    "ExecuteTime": {
     "end_time": "2021-04-27T08:16:41.796533Z",
     "start_time": "2021-04-27T08:16:41.791358Z"
    },
    "tags": []
   },
   "outputs": [],
   "source": [
    "# 假设我们想按年过滤数据帧。我们首先定义一个下拉列表，并用唯一的年份值列表填充它。\n",
    "# 为了做到这一点，我们将创建一个通用函数，unique-sorted-values-plus-all，\n",
    "# 它将找到唯一的值，对它们进行排序，然后在开始时添加all项，这样用户就可以删除过滤器。\n",
    "ALL = 'ALL'\n",
    "def unique_sorted_values_plus_ALL(array):\n",
    "    unique = array.unique().tolist()\n",
    "    unique.sort()\n",
    "    unique.insert(0, ALL)\n",
    "    return unique"
   ]
  },
  {
   "cell_type": "code",
   "execution_count": 20,
   "id": "joined-istanbul",
   "metadata": {
    "ExecuteTime": {
     "end_time": "2021-04-27T08:16:42.523858Z",
     "start_time": "2021-04-27T08:16:42.505393Z"
    }
   },
   "outputs": [],
   "source": [
    "# 现在我们将初始化下拉框：\n",
    "dropdown_year = widgets.Dropdown(options=unique_sorted_values_plus_ALL(df.trade_date))\n",
    "dropdown_year = widgets.Dropdown(options=unique_sorted_values_plus_ALL(df.trade_date))"
   ]
  },
  {
   "cell_type": "code",
   "execution_count": 21,
   "id": "behavioral-postcard",
   "metadata": {
    "ExecuteTime": {
     "end_time": "2021-04-27T08:16:43.423596Z",
     "start_time": "2021-04-27T08:16:43.410753Z"
    }
   },
   "outputs": [
    {
     "data": {
      "application/vnd.jupyter.widget-view+json": {
       "model_id": "e9d2e8e1b5014886b1cacfa13f09565f",
       "version_major": 2,
       "version_minor": 0
      },
      "text/plain": [
       "Output()"
      ]
     },
     "metadata": {},
     "output_type": "display_data"
    },
    {
     "data": {
      "application/vnd.jupyter.widget-view+json": {
       "model_id": "5361afa49b3d4f098614385e39abe4cb",
       "version_major": 2,
       "version_minor": 0
      },
      "text/plain": [
       "Dropdown(options=('ALL', 20200103, 20200110, 20200117, 20200123, 20200207, 20200214, 20200221, 20200228, 20200…"
      ]
     },
     "metadata": {},
     "output_type": "display_data"
    }
   ],
   "source": [
    "# 下拉菜单小部件公开了observer方法，该方法接受一个函数，当下拉菜单的值发生更改时将调用该函数。\n",
    "# 因此，我们接下来将创建观察者处理程序来根据所选的值过滤数据aframe——注意，处理程序的输入参数\n",
    "# change包含有关发生的更改的信息，这些更改允许我们访问新值(change.new)。\n",
    "# 如果新值是所有我们删除过滤器，否则我们应用它：\n",
    "panel = ipywidgets.Output()\n",
    "display(panel)\n",
    "\n",
    "def dropdown_year_eventhandler(change):\n",
    "    with panel:\n",
    "        print(f'[-] changed!!! {change.new}')\n",
    "        if (change.new == ALL):\n",
    "            print(f'[=] changed!!! ALL')\n",
    "            display(df)\n",
    "        else:\n",
    "            d = df.trade_date.unique()\n",
    "            print(f'[=] changed!!! {change.new}')\n",
    "#             display(df[df.trade_date.unique()>change.new])\n",
    "            display(df.head())\n",
    "        show()\n",
    "# 然后我们将处理程序绑定到下拉列表：\n",
    "dropdown_year.observe(dropdown_year_eventhandler,names='value')\n",
    "display(dropdown_year)"
   ]
  },
  {
   "cell_type": "code",
   "execution_count": null,
   "id": "compound-aspect",
   "metadata": {},
   "outputs": [],
   "source": []
  },
  {
   "cell_type": "code",
   "execution_count": null,
   "id": "unique-fleece",
   "metadata": {},
   "outputs": [],
   "source": []
  },
  {
   "cell_type": "markdown",
   "id": "early-nutrition",
   "metadata": {},
   "source": [
    "## 链接小部件输出"
   ]
  },
  {
   "cell_type": "code",
   "execution_count": 22,
   "id": "coral-village",
   "metadata": {
    "ExecuteTime": {
     "end_time": "2021-04-27T08:16:46.183325Z",
     "start_time": "2021-04-27T08:16:46.164031Z"
    },
    "code_folding": []
   },
   "outputs": [
    {
     "data": {
      "application/vnd.jupyter.widget-view+json": {
       "model_id": "b591408863e145058fca83f8e7203da7",
       "version_major": 2,
       "version_minor": 0
      },
      "text/plain": [
       "Output()"
      ]
     },
     "metadata": {},
     "output_type": "display_data"
    },
    {
     "data": {
      "application/vnd.jupyter.widget-view+json": {
       "model_id": "61ea253d6b8c4acc9cb75e60cc0f5bfb",
       "version_major": 2,
       "version_minor": 0
      },
      "text/plain": [
       "Dropdown(options=('ALL', 24.2626, 24.5809, 24.7641, 24.7834, 24.793000000000003, 24.8798, 25.0245, 25.3234, 25…"
      ]
     },
     "metadata": {},
     "output_type": "display_data"
    },
    {
     "data": {
      "application/vnd.jupyter.widget-view+json": {
       "model_id": "2d8cb47bd948475888657654a8ddf76e",
       "version_major": 2,
       "version_minor": 0
      },
      "text/plain": [
       "Dropdown(options=('ALL', 23.9541, 24.3302, 24.5905, 24.793000000000003, 24.9088, 24.956999999999997, 25.0534, …"
      ]
     },
     "metadata": {},
     "output_type": "display_data"
    }
   ],
   "source": [
    "# 继续前面的例子，假设我们也希望按目的过滤。\n",
    "# 如果我们继续添加另一个下拉列表，我们将很快意识到数据帧只响应最近更改的下拉列表中的过滤器。\n",
    "# 我们需要做的是将两者联系在一起，这样它就可以在两个价值观（即年和目标）上发挥作用。\n",
    "# 让我们看看它应该如何工作：\n",
    "# 首先，我们需要两个下拉列表的公共输出：\n",
    "output = widgets.Output()\n",
    "display(output)\n",
    "dropdown_year = widgets.Dropdown(options=unique_sorted_values_plus_ALL(df.close))\n",
    "dropdown_purpose = widgets.Dropdown(options=unique_sorted_values_plus_ALL(df.open))\n",
    "display(dropdown_year)\n",
    "display(dropdown_purpose)\n",
    "# 然后我们创建一个新的函数common_filtering，它将由两个事件处理程序调用。此函数将在数据框上\n",
    "# 应用一个过滤器，用于年份和目的：\n",
    "# 我们正在清除输出，然后检查是否所有的值，在这种情况下，我们考虑删除相应的过滤器。当两个过滤器\n",
    "# 都存在时，在else语句中，我们在两个过滤器中应用&操作。最后，我们捕获输出：\n",
    "def common_filtering(year, purpose):\n",
    "    output.clear_output()\n",
    "\n",
    "    if (year == ALL) & (purpose == ALL):\n",
    "        common_filter = df\n",
    "    elif (year == ALL):\n",
    "#         common_filter = df[df.purpose == purpose]\n",
    "        common_filter = df.head(1)\n",
    "    elif (purpose == ALL):\n",
    "#         common_filter == df[df.year == year]\n",
    "        common_filter == df.head(2)\n",
    "    else:\n",
    "#         common_filter = df[(df.year == year) & (df.purpose == purpose)]\n",
    "        common_filter = df.head(3)\n",
    "    with output:\n",
    "        print(f'[-]  {year}  {purpose}')\n",
    "        display(common_filter)\n",
    "# 我们将事件处理程序修改为调用common_filtering函数并传递更改。新值以及其他下拉框的当前值：\n",
    "def dropdown_year_eventhandler(change):\n",
    "    common_filtering(change.new, dropdown_purpose.value)\n",
    "def dropdown_purpose_eventhandler(change):\n",
    "    common_filtering(dropdown_year.value, change.new)\n",
    "# 将处理程序绑定到下拉列表，就这样！\n",
    "dropdown_year.observe(\n",
    "    dropdown_year_eventhandler,\n",
    "    names='value'\n",
    ")\n",
    "dropdown_purpose.observe(\n",
    "    dropdown_purpose_eventhandler,\n",
    "    names='value'\n",
    ")"
   ]
  },
  {
   "cell_type": "code",
   "execution_count": null,
   "id": "manufactured-jungle",
   "metadata": {},
   "outputs": [],
   "source": []
  },
  {
   "cell_type": "code",
   "execution_count": null,
   "id": "professional-forward",
   "metadata": {},
   "outputs": [],
   "source": []
  },
  {
   "cell_type": "markdown",
   "id": "conceptual-tenant",
   "metadata": {},
   "source": [
    "# 创建仪表盘"
   ]
  },
  {
   "cell_type": "code",
   "execution_count": 23,
   "id": "vocational-tower",
   "metadata": {
    "ExecuteTime": {
     "end_time": "2021-04-27T08:16:48.755015Z",
     "start_time": "2021-04-27T08:16:48.703806Z"
    }
   },
   "outputs": [
    {
     "data": {
      "application/vnd.jupyter.widget-view+json": {
       "model_id": "4e485a5031674916810a6db3a458c4ba",
       "version_major": 2,
       "version_minor": 0
      },
      "text/plain": [
       "Output()"
      ]
     },
     "metadata": {},
     "output_type": "display_data"
    },
    {
     "data": {
      "application/vnd.jupyter.widget-view+json": {
       "model_id": "b02c102eb19b4a1cadc2074d82c79c09",
       "version_major": 2,
       "version_minor": 0
      },
      "text/plain": [
       "Dropdown(options=('ALL', 24.2626, 24.5809, 24.7641, 24.7834, 24.793000000000003, 24.8798, 25.0245, 25.3234, 25…"
      ]
     },
     "metadata": {},
     "output_type": "display_data"
    },
    {
     "data": {
      "application/vnd.jupyter.widget-view+json": {
       "model_id": "663117440a3c4ebda9282468e78970cb",
       "version_major": 2,
       "version_minor": 0
      },
      "text/plain": [
       "Dropdown(options=('ALL', 23.9541, 24.3302, 24.5905, 24.793000000000003, 24.9088, 24.956999999999997, 25.0534, …"
      ]
     },
     "metadata": {},
     "output_type": "display_data"
    },
    {
     "data": {
      "application/vnd.jupyter.widget-view+json": {
       "model_id": "98de0cd17cd7424c909097b6e2ddd7d4",
       "version_major": 2,
       "version_minor": 0
      },
      "text/plain": [
       "BoundedFloatText(value=5.0, max=100000.0, step=1.0)"
      ]
     },
     "metadata": {},
     "output_type": "display_data"
    }
   ],
   "source": [
    "import mplfinance as mplf\n",
    "\n",
    "\n",
    "output = widgets.Output()\n",
    "display(output)\n",
    "dropdown_year = widgets.Dropdown(options=unique_sorted_values_plus_ALL(df.close))\n",
    "dropdown_purpose = widgets.Dropdown(options=unique_sorted_values_plus_ALL(df.open))\n",
    "# 到目前为止，我们已经通过过滤和显示伦敦数据集的数据为仪表盘奠定了基础。我们将根据用户选择的值对数值着色。\n",
    "# 一个有用的数字小部件是boundedfloatText；我们将给它一个最小值、最大值和初始值，以及增量步骤。\n",
    "bounded_num = widgets.BoundedFloatText(\n",
    "    min=0,\n",
    "    max=100000,\n",
    "    value=5,\n",
    "    step=1\n",
    ")\n",
    "display(dropdown_year)\n",
    "display(dropdown_purpose)\n",
    "display(bounded_num)\n",
    "# 为了给数据帧单元上色，我们将定义此功能：\n",
    "def colour_ge_value(value, comparison):\n",
    "    if value >= comparison:\n",
    "        return 'color： red'\n",
    "    else:\n",
    "        return 'color： black'\n",
    "# 现在，我们将把常用的_过滤功能修改为：\n",
    "# 添加新的num输入参数：\n",
    "def common_filtering(year, purpose, num):\n",
    "    output.clear_output()\n",
    "\n",
    "    if (year == ALL) & (purpose == ALL):\n",
    "        common_filter = df\n",
    "    elif (year == ALL):\n",
    "#         common_filter = df[df.purpose == purpose]\n",
    "        common_filter = df.head(1)\n",
    "    elif (purpose == ALL):\n",
    "#         common_filter == df[df.year == year]\n",
    "        common_filter == df.head(2)\n",
    "    else:\n",
    "#         common_filter = df[(df.year == year) & (df.purpose == purpose)]\n",
    "        common_filter = df.head(3)\n",
    "    with output:\n",
    "        print(f'[-]  {year}  {purpose}')\n",
    "        display(\n",
    "            common_filter.style.applymap(\n",
    "                lambda x:colour_ge_value(\n",
    "                    x, num\n",
    "                ),\n",
    "                subset=['close', 'open', 'high']\n",
    "            )\n",
    "        )\n",
    "        common_filter.index.name='trade_date'\n",
    "        common_filter.index = pd.DatetimeIndex(common_filter.index)\n",
    "        common_filter.sort_index()\n",
    "        new_columns = {'trade_date':'trade_date', 'open':'open', 'high':'high', 'low':'low', 'close':'close', 'vol':'volume'}\n",
    "        common_filter.rename(columns=new_columns, inplace=True)\n",
    "        mc = mplf.make_marketcolors(up='r',down='g')\n",
    "        s  = mplf.make_mpf_style(marketcolors=mc,mavcolors=['#4f8a8b','#fbd46d','#87556f'])\n",
    "        # mplf.plot(df2, type='candle', volume=True, show_nontrading=True, figratio=(20,10), mav=(5,10,15),style=s)\n",
    "        mplf.plot(common_filter, type='candle', volume=True, figratio=(20,10), mav=(5,10,15), style=s)\n",
    "        \n",
    "# 我们将事件处理程序修改为调用common_filtering函数并传递更改。新值以及其他下拉框的当前值：\n",
    "def dropdown_year_eventhandler(change):\n",
    "    common_filtering(change.new, dropdown_purpose.value, change.new)\n",
    "def dropdown_purpose_eventhandler(change):\n",
    "    common_filtering(dropdown_year.value, change.new, change.new)\n",
    "def bounded_num_eventhandler(change):\n",
    "    common_filtering(dropdown_year.value, change.new, change.new)\n",
    "# 将处理程序绑定到下拉列表，就这样！\n",
    "dropdown_year.observe(\n",
    "    dropdown_year_eventhandler,\n",
    "    names='value'\n",
    ")\n",
    "dropdown_purpose.observe(\n",
    "    dropdown_purpose_eventhandler,\n",
    "    names='value'\n",
    ")\n",
    "bounded_num.observe(bounded_num_eventhandler, names='value')"
   ]
  },
  {
   "cell_type": "code",
   "execution_count": null,
   "id": "light-keeping",
   "metadata": {},
   "outputs": [],
   "source": []
  },
  {
   "cell_type": "code",
   "execution_count": null,
   "id": "medical-chamber",
   "metadata": {},
   "outputs": [],
   "source": []
  },
  {
   "cell_type": "markdown",
   "id": "fifth-decimal",
   "metadata": {},
   "source": [
    "## 绘图"
   ]
  },
  {
   "cell_type": "code",
   "execution_count": 24,
   "id": "automatic-execution",
   "metadata": {
    "ExecuteTime": {
     "end_time": "2021-04-27T08:16:53.274369Z",
     "start_time": "2021-04-27T08:16:52.398652Z"
    }
   },
   "outputs": [],
   "source": [
    "# 接下来，我们将添加一个新的图表来绘制访问次数的基本单变量密度（kde→内核密度估计）。我们将使用Seaborn，所以让我们导入库：\n",
    "import seaborn as sns\n",
    "import matplotlib.pyplot as plt"
   ]
  },
  {
   "cell_type": "code",
   "execution_count": null,
   "id": "digital-mortgage",
   "metadata": {},
   "outputs": [],
   "source": []
  },
  {
   "cell_type": "code",
   "execution_count": null,
   "id": "green-benjamin",
   "metadata": {},
   "outputs": [],
   "source": []
  },
  {
   "cell_type": "code",
   "execution_count": null,
   "id": "cellular-stroke",
   "metadata": {},
   "outputs": [],
   "source": []
  },
  {
   "cell_type": "code",
   "execution_count": null,
   "id": "atlantic-jungle",
   "metadata": {},
   "outputs": [],
   "source": []
  }
 ],
 "metadata": {
  "kernelspec": {
   "display_name": "stockv2",
   "language": "python",
   "name": "stockv2"
  },
  "language_info": {
   "codemirror_mode": {
    "name": "ipython",
    "version": 3
   },
   "file_extension": ".py",
   "mimetype": "text/x-python",
   "name": "python",
   "nbconvert_exporter": "python",
   "pygments_lexer": "ipython3",
   "version": "3.8.5"
  },
  "toc": {
   "base_numbering": 1,
   "nav_menu": {},
   "number_sections": true,
   "sideBar": true,
   "skip_h1_title": false,
   "title_cell": "Table of Contents",
   "title_sidebar": "Contents",
   "toc_cell": false,
   "toc_position": {},
   "toc_section_display": true,
   "toc_window_display": false
  },
  "varInspector": {
   "cols": {
    "lenName": 16,
    "lenType": 16,
    "lenVar": 40
   },
   "kernels_config": {
    "python": {
     "delete_cmd_postfix": "",
     "delete_cmd_prefix": "del ",
     "library": "var_list.py",
     "varRefreshCmd": "print(var_dic_list())"
    },
    "r": {
     "delete_cmd_postfix": ") ",
     "delete_cmd_prefix": "rm(",
     "library": "var_list.r",
     "varRefreshCmd": "cat(var_dic_list()) "
    }
   },
   "types_to_exclude": [
    "module",
    "function",
    "builtin_function_or_method",
    "instance",
    "_Feature"
   ],
   "window_display": false
  }
 },
 "nbformat": 4,
 "nbformat_minor": 5
}
