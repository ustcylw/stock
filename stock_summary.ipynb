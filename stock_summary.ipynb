{
 "cells": [
  {
   "cell_type": "markdown",
   "id": "prostate-quality",
   "metadata": {},
   "source": [
    "# stocks summary"
   ]
  },
  {
   "cell_type": "markdown",
   "id": "empirical-honolulu",
   "metadata": {},
   "source": [
    "### contents\n",
    "1. stock info\n",
    ">    1.1. stock list\n",
    ">    + \n",
    ">    1.2. ok"
   ]
  },
  {
   "cell_type": "code",
   "execution_count": 6,
   "id": "mature-juvenile",
   "metadata": {
    "tags": []
   },
   "outputs": [],
   "source": [
    "import os, sys\n",
    "sys.path.insert(0, r'data2/personal/jupyters/stock')\n",
    "import numpy as np\n",
    "import pandas as pd\n",
    "#显示所有列\n",
    "pd.set_option('display.max_columns', None)\n",
    "#显示所有行\n",
    "pd.set_option('display.max_rows', None)\n",
    "#设置value的显示长度为100，默认为50\n",
    "pd.set_option('max_colwidth',100)\n",
    "\n",
    "import akshare as ak\n",
    "import baostock as bs\n",
    "import tushare as tu\n",
    "\n",
    "import mplfinance as mplf\n",
    "import ipywidgets.widgets as widgets\n",
    "from matplotlib.pyplot import *"
   ]
  },
  {
   "cell_type": "markdown",
   "id": "sought-atlas",
   "metadata": {},
   "source": [
    "# 1. 股票信息"
   ]
  },
  {
   "cell_type": "markdown",
   "id": "concerned-married",
   "metadata": {},
   "source": [
    "## 1.1 股票列表"
   ]
  },
  {
   "cell_type": "markdown",
   "id": "seasonal-montreal",
   "metadata": {},
   "source": [
    "+ akshare"
   ]
  },
  {
   "cell_type": "code",
   "execution_count": 7,
   "id": "waiting-blake",
   "metadata": {
    "tags": []
   },
   "outputs": [
    {
     "data": {
      "application/vnd.jupyter.widget-view+json": {
       "model_id": "832cbc1be00f4063b3e37bbeb3034a19",
       "version_major": 2,
       "version_minor": 0
      },
      "text/plain": [
       "Dropdown(options=('all', 'akshare', 'baostock', 'tushare', 'tusharepro'), value='all')"
      ]
     },
     "metadata": {},
     "output_type": "display_data"
    },
    {
     "data": {
      "application/vnd.jupyter.widget-view+json": {
       "model_id": "99b9963f287b4e2986e244107dd259bb",
       "version_major": 2,
       "version_minor": 0
      },
      "text/plain": [
       "BoundedFloatText(value=5.0, max=100000.0, step=1.0)"
      ]
     },
     "metadata": {},
     "output_type": "display_data"
    },
    {
     "data": {
      "application/vnd.jupyter.widget-view+json": {
       "model_id": "ba06e72ac5dd4ac5991e27825636646a",
       "version_major": 2,
       "version_minor": 0
      },
      "text/plain": [
       "Button(description='股票列表', style=ButtonStyle())"
      ]
     },
     "metadata": {},
     "output_type": "display_data"
    },
    {
     "data": {
      "application/vnd.jupyter.widget-view+json": {
       "model_id": "fea1376f566a48e58d8979c2b9a57ce7",
       "version_major": 2,
       "version_minor": 0
      },
      "text/plain": [
       "Output()"
      ]
     },
     "metadata": {},
     "output_type": "display_data"
    }
   ],
   "source": [
    "import mplfinance as mplf\n",
    "import stock_data as StockData\n",
    "from stock_data.akshare_stock_data import akshare_stock\n",
    "\n",
    "\n",
    "data_source_types = ['all', 'akshare', 'baostock', 'tushare', 'tusharepro']\n",
    "\n",
    "data_source_dropdown = widgets.Dropdown(options=data_source_types)\n",
    "bounded_num = widgets.BoundedFloatText(\n",
    "    min=0,\n",
    "    max=100000,\n",
    "    value=5,\n",
    "    step=1\n",
    ")\n",
    "stock_list_button = widgets.Button(description=\"股票列表\")\n",
    "display(data_source_dropdown)\n",
    "display(bounded_num)\n",
    "display(stock_list_button)\n",
    "\n",
    "output = widgets.Output()\n",
    "display(output)\n",
    "\n",
    "# 我们将事件处理程序修改为调用common_filtering函数并传递更改。新值以及其他下拉框的当前值：\n",
    "def data_source_eventhandler(change):\n",
    "    print(f'[data_source_eventhandler] {change}')\n",
    "def bounded_num_eventhandler(change):\n",
    "        print(f'[bounded_num_eventhandler] {change}')\n",
    "# @output.capture()\n",
    "def on_button_clicked(btn_obj):\n",
    "#     with output:\n",
    "    print(f'[bounded_num_eventhandler] {btn_obj.description}')\n",
    "    data_source_type = data_source_dropdown.value\n",
    "    if data_source_type == 'akshare':\n",
    "        dict_stock_list = akshare_stock.stock_ahgu_gupiaozidian()\n",
    "    elif data_source_type == 'baostock':\n",
    "        pass\n",
    "    elif data_source_type == 'tushare':\n",
    "        pass\n",
    "    elif data_source_type == 'tusharepro':\n",
    "        pass\n",
    "    else:\n",
    "        pass\n",
    "    with output:\n",
    "        output.clear_output()\n",
    "        df_stock_list = pd.DataFrame({'ts_code': dict_stock_list.keys(), 'name':dict_stock_list.values()})\n",
    "        display(df_stock_list)\n",
    "#         df.plot(df_stock_list)\n",
    "        show()\n",
    "stock_list_button.on_click(on_button_clicked)\n",
    "data_source_dropdown.observe(data_source_eventhandler, names='value')\n",
    "bounded_num.observe(bounded_num_eventhandler, names='value')\n"
   ]
  },
  {
   "cell_type": "code",
   "execution_count": null,
   "id": "overall-carolina",
   "metadata": {},
   "outputs": [],
   "source": []
  },
  {
   "cell_type": "code",
   "execution_count": null,
   "id": "occupational-velvet",
   "metadata": {},
   "outputs": [],
   "source": []
  },
  {
   "cell_type": "code",
   "execution_count": 16,
   "id": "sexual-toddler",
   "metadata": {
    "collapsed": true,
    "jupyter": {
     "outputs_hidden": true
    }
   },
   "outputs": [
    {
     "name": "stderr",
     "output_type": "stream",
     "text": [
      "100%|██████████| 7/7 [00:00<00:00, 10.28it/s]\n"
     ]
    }
   ],
   "source": [
    "dict_stock_list = akshare_stock.stock_ahgu_gupiaozidian()\n",
    "# dict_stock_list"
   ]
  },
  {
   "cell_type": "code",
   "execution_count": 20,
   "id": "surprising-pressing",
   "metadata": {
    "collapsed": true,
    "jupyter": {
     "outputs_hidden": true
    },
    "tags": []
   },
   "outputs": [
    {
     "data": {
      "text/html": [
       "<div>\n",
       "<style scoped>\n",
       "    .dataframe tbody tr th:only-of-type {\n",
       "        vertical-align: middle;\n",
       "    }\n",
       "\n",
       "    .dataframe tbody tr th {\n",
       "        vertical-align: top;\n",
       "    }\n",
       "\n",
       "    .dataframe thead th {\n",
       "        text-align: right;\n",
       "    }\n",
       "</style>\n",
       "<table border=\"1\" class=\"dataframe\">\n",
       "  <thead>\n",
       "    <tr style=\"text-align: right;\">\n",
       "      <th></th>\n",
       "      <th>ts_code</th>\n",
       "      <th>name</th>\n",
       "    </tr>\n",
       "  </thead>\n",
       "  <tbody>\n",
       "    <tr>\n",
       "      <th>0</th>\n",
       "      <td>06185</td>\n",
       "      <td>康希诺生物-B</td>\n",
       "    </tr>\n",
       "    <tr>\n",
       "      <th>1</th>\n",
       "      <td>01211</td>\n",
       "      <td>比亚迪股份</td>\n",
       "    </tr>\n",
       "    <tr>\n",
       "      <th>2</th>\n",
       "      <td>02359</td>\n",
       "      <td>药明康德</td>\n",
       "    </tr>\n",
       "    <tr>\n",
       "      <th>3</th>\n",
       "      <td>03347</td>\n",
       "      <td>泰格医药</td>\n",
       "    </tr>\n",
       "    <tr>\n",
       "      <th>4</th>\n",
       "      <td>06127</td>\n",
       "      <td>昭衍新药</td>\n",
       "    </tr>\n",
       "    <tr>\n",
       "      <th>...</th>\n",
       "      <td>...</td>\n",
       "      <td>...</td>\n",
       "    </tr>\n",
       "    <tr>\n",
       "      <th>126</th>\n",
       "      <td>00991</td>\n",
       "      <td>大唐发电</td>\n",
       "    </tr>\n",
       "    <tr>\n",
       "      <th>127</th>\n",
       "      <td>02880</td>\n",
       "      <td>辽港股份</td>\n",
       "    </tr>\n",
       "    <tr>\n",
       "      <th>128</th>\n",
       "      <td>01033</td>\n",
       "      <td>中石化油服</td>\n",
       "    </tr>\n",
       "    <tr>\n",
       "      <th>129</th>\n",
       "      <td>00042</td>\n",
       "      <td>东北电气</td>\n",
       "    </tr>\n",
       "    <tr>\n",
       "      <th>130</th>\n",
       "      <td>06116</td>\n",
       "      <td>拉夏贝尔</td>\n",
       "    </tr>\n",
       "  </tbody>\n",
       "</table>\n",
       "<p>131 rows × 2 columns</p>\n",
       "</div>"
      ],
      "text/plain": [
       "    ts_code     name\n",
       "0     06185  康希诺生物-B\n",
       "1     01211    比亚迪股份\n",
       "2     02359     药明康德\n",
       "3     03347     泰格医药\n",
       "4     06127     昭衍新药\n",
       "..      ...      ...\n",
       "126   00991     大唐发电\n",
       "127   02880     辽港股份\n",
       "128   01033    中石化油服\n",
       "129   00042     东北电气\n",
       "130   06116     拉夏贝尔\n",
       "\n",
       "[131 rows x 2 columns]"
      ]
     },
     "execution_count": 20,
     "metadata": {},
     "output_type": "execute_result"
    }
   ],
   "source": [
    "# df_stock_list = pd.DataFrame(dict_stock_list, columns=['ts_code', 'name'])\n",
    "df_stock_list = pd.DataFrame({'ts_code': dict_stock_list.keys(), 'name':dict_stock_list.values()})\n",
    "df_stock_list"
   ]
  },
  {
   "cell_type": "code",
   "execution_count": 10,
   "id": "irish-component",
   "metadata": {
    "collapsed": true,
    "jupyter": {
     "outputs_hidden": true
    }
   },
   "outputs": [
    {
     "data": {
      "text/html": [
       "<div>\n",
       "<style scoped>\n",
       "    .dataframe tbody tr th:only-of-type {\n",
       "        vertical-align: middle;\n",
       "    }\n",
       "\n",
       "    .dataframe tbody tr th {\n",
       "        vertical-align: top;\n",
       "    }\n",
       "\n",
       "    .dataframe thead th {\n",
       "        text-align: right;\n",
       "    }\n",
       "</style>\n",
       "<table border=\"1\" class=\"dataframe\">\n",
       "  <thead>\n",
       "    <tr style=\"text-align: right;\">\n",
       "      <th></th>\n",
       "      <th>姓名</th>\n",
       "      <th>性别</th>\n",
       "      <th>年龄</th>\n",
       "      <th>职业</th>\n",
       "    </tr>\n",
       "  </thead>\n",
       "  <tbody>\n",
       "    <tr>\n",
       "      <th>0</th>\n",
       "      <td>小明</td>\n",
       "      <td>男</td>\n",
       "      <td>20</td>\n",
       "      <td>NaN</td>\n",
       "    </tr>\n",
       "    <tr>\n",
       "      <th>1</th>\n",
       "      <td>小红</td>\n",
       "      <td>女</td>\n",
       "      <td>21</td>\n",
       "      <td>NaN</td>\n",
       "    </tr>\n",
       "    <tr>\n",
       "      <th>2</th>\n",
       "      <td>小芳</td>\n",
       "      <td>女</td>\n",
       "      <td>25</td>\n",
       "      <td>NaN</td>\n",
       "    </tr>\n",
       "    <tr>\n",
       "      <th>3</th>\n",
       "      <td>大黑</td>\n",
       "      <td>男</td>\n",
       "      <td>24</td>\n",
       "      <td>NaN</td>\n",
       "    </tr>\n",
       "    <tr>\n",
       "      <th>4</th>\n",
       "      <td>张三</td>\n",
       "      <td>男</td>\n",
       "      <td>29</td>\n",
       "      <td>NaN</td>\n",
       "    </tr>\n",
       "  </tbody>\n",
       "</table>\n",
       "</div>"
      ],
      "text/plain": [
       "   姓名 性别  年龄   职业\n",
       "0  小明  男  20  NaN\n",
       "1  小红  女  21  NaN\n",
       "2  小芳  女  25  NaN\n",
       "3  大黑  男  24  NaN\n",
       "4  张三  男  29  NaN"
      ]
     },
     "execution_count": 10,
     "metadata": {},
     "output_type": "execute_result"
    }
   ],
   "source": [
    "data = {\n",
    "        '性别':['男','女','女','男','男'],\n",
    "        '姓名':['小明','小红','小芳','大黑','张三'],\n",
    "        '年龄':[20,21,25,24,29]}\n",
    "# df = pd.DataFrame(data,index=['one','two','three','four','five'],\n",
    "#                columns=['姓名','性别','年龄','职业'])\n",
    "df = pd.DataFrame(data, columns=['姓名','性别','年龄','职业'])\n",
    "df"
   ]
  },
  {
   "cell_type": "code",
   "execution_count": 3,
   "id": "economic-envelope",
   "metadata": {
    "collapsed": true,
    "jupyter": {
     "outputs_hidden": true
    }
   },
   "outputs": [
    {
     "data": {
      "application/vnd.jupyter.widget-view+json": {
       "model_id": "01110d8dd05b49c8bac4054ad4d327e1",
       "version_major": 2,
       "version_minor": 0
      },
      "text/plain": [
       "Accordion(children=(IntSlider(value=0), Text(value='')), _titles={'0': '滑块', '1': '文本'})"
      ]
     },
     "metadata": {},
     "output_type": "display_data"
    }
   ],
   "source": [
    "accordion = widgets.Accordion(children=[widgets.IntSlider(), widgets.Text()])\n",
    "accordion.set_title(0, '滑块')\n",
    "accordion.set_title(1, '文本')\n",
    "accordion"
   ]
  },
  {
   "cell_type": "code",
   "execution_count": 5,
   "id": "ahead-coordination",
   "metadata": {
    "collapsed": true,
    "jupyter": {
     "outputs_hidden": true
    }
   },
   "outputs": [
    {
     "data": {
      "application/vnd.jupyter.widget-view+json": {
       "model_id": "18ada3fd3e344819841a4901679f865c",
       "version_major": 2,
       "version_minor": 0
      },
      "text/plain": [
       "Tab(children=(Text(value='', description='基本'), Text(value='', description='股池'), Text(value='', description='…"
      ]
     },
     "metadata": {},
     "output_type": "display_data"
    }
   ],
   "source": [
    "tab_contents = ['基本', '股池', '买策', '卖策', '选股']\n",
    "children = [widgets.Text(description=name) for name in tab_contents]\n",
    "tab = widgets.Tab()\n",
    "tab.children = children\n",
    "for index,i in enumerate(tab_contents):\n",
    "    tab.set_title(index,i)  # 需要索引与值两个参数\n",
    "tab"
   ]
  },
  {
   "cell_type": "code",
   "execution_count": null,
   "id": "waiting-brass",
   "metadata": {
    "collapsed": true,
    "jupyter": {
     "outputs_hidden": true
    }
   },
   "outputs": [],
   "source": []
  }
 ],
 "metadata": {
  "kernelspec": {
   "display_name": "stockv1",
   "language": "python",
   "name": "stockv1"
  },
  "language_info": {
   "codemirror_mode": {
    "name": "ipython",
    "version": 3
   },
   "file_extension": ".py",
   "mimetype": "text/x-python",
   "name": "python",
   "nbconvert_exporter": "python",
   "pygments_lexer": "ipython3",
   "version": "3.6.13"
  }
 },
 "nbformat": 4,
 "nbformat_minor": 5
}
